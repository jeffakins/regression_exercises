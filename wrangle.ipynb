{
 "cells": [
  {
   "cell_type": "markdown",
   "id": "8a9ca289",
   "metadata": {},
   "source": [
    "## Wrangle file for Zillow's 2017 Property Information"
   ]
  },
  {
   "cell_type": "code",
   "execution_count": 94,
   "id": "c5893ec1",
   "metadata": {},
   "outputs": [],
   "source": [
    "import wrangle as wr\n",
    "\n",
    "import pandas as pd\n",
    "import numpy as np\n",
    "\n",
    "import matplotlib.pyplot as plt\n",
    "import seaborn as sns\n",
    "\n",
    "from scipy import stats\n",
    "import sklearn.preprocessing\n",
    "from sklearn.model_selection import train_test_split\n",
    "\n",
    "import warnings\n",
    "warnings.filterwarnings(\"ignore\")"
   ]
  },
  {
   "cell_type": "code",
   "execution_count": 65,
   "id": "f927a417",
   "metadata": {},
   "outputs": [
    {
     "data": {
      "text/html": [
       "<div>\n",
       "<style scoped>\n",
       "    .dataframe tbody tr th:only-of-type {\n",
       "        vertical-align: middle;\n",
       "    }\n",
       "\n",
       "    .dataframe tbody tr th {\n",
       "        vertical-align: top;\n",
       "    }\n",
       "\n",
       "    .dataframe thead th {\n",
       "        text-align: right;\n",
       "    }\n",
       "</style>\n",
       "<table border=\"1\" class=\"dataframe\">\n",
       "  <thead>\n",
       "    <tr style=\"text-align: right;\">\n",
       "      <th></th>\n",
       "      <th>bedroomcnt</th>\n",
       "      <th>bathroomcnt</th>\n",
       "      <th>calculatedfinishedsquarefeet</th>\n",
       "      <th>taxvaluedollarcnt</th>\n",
       "      <th>yearbuilt</th>\n",
       "      <th>taxamount</th>\n",
       "      <th>fips</th>\n",
       "    </tr>\n",
       "  </thead>\n",
       "  <tbody>\n",
       "    <tr>\n",
       "      <th>0</th>\n",
       "      <td>0.0</td>\n",
       "      <td>0.0</td>\n",
       "      <td>NaN</td>\n",
       "      <td>27516.0</td>\n",
       "      <td>NaN</td>\n",
       "      <td>NaN</td>\n",
       "      <td>6037.0</td>\n",
       "    </tr>\n",
       "    <tr>\n",
       "      <th>1</th>\n",
       "      <td>0.0</td>\n",
       "      <td>0.0</td>\n",
       "      <td>NaN</td>\n",
       "      <td>10.0</td>\n",
       "      <td>NaN</td>\n",
       "      <td>NaN</td>\n",
       "      <td>6037.0</td>\n",
       "    </tr>\n",
       "    <tr>\n",
       "      <th>2</th>\n",
       "      <td>0.0</td>\n",
       "      <td>0.0</td>\n",
       "      <td>NaN</td>\n",
       "      <td>10.0</td>\n",
       "      <td>NaN</td>\n",
       "      <td>NaN</td>\n",
       "      <td>6037.0</td>\n",
       "    </tr>\n",
       "    <tr>\n",
       "      <th>3</th>\n",
       "      <td>0.0</td>\n",
       "      <td>0.0</td>\n",
       "      <td>NaN</td>\n",
       "      <td>2108.0</td>\n",
       "      <td>NaN</td>\n",
       "      <td>174.21</td>\n",
       "      <td>6037.0</td>\n",
       "    </tr>\n",
       "    <tr>\n",
       "      <th>4</th>\n",
       "      <td>4.0</td>\n",
       "      <td>2.0</td>\n",
       "      <td>3633.0</td>\n",
       "      <td>296425.0</td>\n",
       "      <td>2005.0</td>\n",
       "      <td>6941.39</td>\n",
       "      <td>6037.0</td>\n",
       "    </tr>\n",
       "    <tr>\n",
       "      <th>5</th>\n",
       "      <td>0.0</td>\n",
       "      <td>0.0</td>\n",
       "      <td>NaN</td>\n",
       "      <td>124.0</td>\n",
       "      <td>NaN</td>\n",
       "      <td>NaN</td>\n",
       "      <td>6037.0</td>\n",
       "    </tr>\n",
       "    <tr>\n",
       "      <th>6</th>\n",
       "      <td>3.0</td>\n",
       "      <td>4.0</td>\n",
       "      <td>1620.0</td>\n",
       "      <td>847770.0</td>\n",
       "      <td>2011.0</td>\n",
       "      <td>10244.94</td>\n",
       "      <td>6037.0</td>\n",
       "    </tr>\n",
       "    <tr>\n",
       "      <th>7</th>\n",
       "      <td>3.0</td>\n",
       "      <td>2.0</td>\n",
       "      <td>2077.0</td>\n",
       "      <td>646760.0</td>\n",
       "      <td>1926.0</td>\n",
       "      <td>7924.68</td>\n",
       "      <td>6037.0</td>\n",
       "    </tr>\n",
       "    <tr>\n",
       "      <th>8</th>\n",
       "      <td>0.0</td>\n",
       "      <td>0.0</td>\n",
       "      <td>NaN</td>\n",
       "      <td>6730242.0</td>\n",
       "      <td>NaN</td>\n",
       "      <td>80348.13</td>\n",
       "      <td>6037.0</td>\n",
       "    </tr>\n",
       "    <tr>\n",
       "      <th>9</th>\n",
       "      <td>0.0</td>\n",
       "      <td>0.0</td>\n",
       "      <td>NaN</td>\n",
       "      <td>15532.0</td>\n",
       "      <td>NaN</td>\n",
       "      <td>248.89</td>\n",
       "      <td>6037.0</td>\n",
       "    </tr>\n",
       "    <tr>\n",
       "      <th>10</th>\n",
       "      <td>0.0</td>\n",
       "      <td>0.0</td>\n",
       "      <td>NaN</td>\n",
       "      <td>11009.0</td>\n",
       "      <td>NaN</td>\n",
       "      <td>NaN</td>\n",
       "      <td>6037.0</td>\n",
       "    </tr>\n",
       "    <tr>\n",
       "      <th>11</th>\n",
       "      <td>0.0</td>\n",
       "      <td>0.0</td>\n",
       "      <td>1200.0</td>\n",
       "      <td>5328.0</td>\n",
       "      <td>1972.0</td>\n",
       "      <td>91.60</td>\n",
       "      <td>6037.0</td>\n",
       "    </tr>\n",
       "    <tr>\n",
       "      <th>12</th>\n",
       "      <td>0.0</td>\n",
       "      <td>0.0</td>\n",
       "      <td>NaN</td>\n",
       "      <td>2171.0</td>\n",
       "      <td>NaN</td>\n",
       "      <td>NaN</td>\n",
       "      <td>6037.0</td>\n",
       "    </tr>\n",
       "    <tr>\n",
       "      <th>13</th>\n",
       "      <td>0.0</td>\n",
       "      <td>0.0</td>\n",
       "      <td>NaN</td>\n",
       "      <td>378.0</td>\n",
       "      <td>NaN</td>\n",
       "      <td>NaN</td>\n",
       "      <td>6037.0</td>\n",
       "    </tr>\n",
       "    <tr>\n",
       "      <th>14</th>\n",
       "      <td>0.0</td>\n",
       "      <td>0.0</td>\n",
       "      <td>171.0</td>\n",
       "      <td>6920.0</td>\n",
       "      <td>1973.0</td>\n",
       "      <td>255.17</td>\n",
       "      <td>6037.0</td>\n",
       "    </tr>\n",
       "  </tbody>\n",
       "</table>\n",
       "</div>"
      ],
      "text/plain": [
       "    bedroomcnt  bathroomcnt  calculatedfinishedsquarefeet  taxvaluedollarcnt  \\\n",
       "0          0.0          0.0                           NaN            27516.0   \n",
       "1          0.0          0.0                           NaN               10.0   \n",
       "2          0.0          0.0                           NaN               10.0   \n",
       "3          0.0          0.0                           NaN             2108.0   \n",
       "4          4.0          2.0                        3633.0           296425.0   \n",
       "5          0.0          0.0                           NaN              124.0   \n",
       "6          3.0          4.0                        1620.0           847770.0   \n",
       "7          3.0          2.0                        2077.0           646760.0   \n",
       "8          0.0          0.0                           NaN          6730242.0   \n",
       "9          0.0          0.0                           NaN            15532.0   \n",
       "10         0.0          0.0                           NaN            11009.0   \n",
       "11         0.0          0.0                        1200.0             5328.0   \n",
       "12         0.0          0.0                           NaN             2171.0   \n",
       "13         0.0          0.0                           NaN              378.0   \n",
       "14         0.0          0.0                         171.0             6920.0   \n",
       "\n",
       "    yearbuilt  taxamount    fips  \n",
       "0         NaN        NaN  6037.0  \n",
       "1         NaN        NaN  6037.0  \n",
       "2         NaN        NaN  6037.0  \n",
       "3         NaN     174.21  6037.0  \n",
       "4      2005.0    6941.39  6037.0  \n",
       "5         NaN        NaN  6037.0  \n",
       "6      2011.0   10244.94  6037.0  \n",
       "7      1926.0    7924.68  6037.0  \n",
       "8         NaN   80348.13  6037.0  \n",
       "9         NaN     248.89  6037.0  \n",
       "10        NaN        NaN  6037.0  \n",
       "11     1972.0      91.60  6037.0  \n",
       "12        NaN        NaN  6037.0  \n",
       "13        NaN        NaN  6037.0  \n",
       "14     1973.0     255.17  6037.0  "
      ]
     },
     "execution_count": 65,
     "metadata": {},
     "output_type": "execute_result"
    }
   ],
   "source": [
    "zillow = wr.get_zillow_data()\n",
    "zillow.head(15)"
   ]
  },
  {
   "cell_type": "code",
   "execution_count": 66,
   "id": "043657d8",
   "metadata": {},
   "outputs": [
    {
     "name": "stdout",
     "output_type": "stream",
     "text": [
      "<class 'pandas.core.frame.DataFrame'>\n",
      "Int64Index: 2152863 entries, 0 to 2152862\n",
      "Data columns (total 7 columns):\n",
      " #   Column                        Dtype  \n",
      "---  ------                        -----  \n",
      " 0   bedroomcnt                    float64\n",
      " 1   bathroomcnt                   float64\n",
      " 2   calculatedfinishedsquarefeet  float64\n",
      " 3   taxvaluedollarcnt             float64\n",
      " 4   yearbuilt                     float64\n",
      " 5   taxamount                     float64\n",
      " 6   fips                          float64\n",
      "dtypes: float64(7)\n",
      "memory usage: 131.4 MB\n"
     ]
    }
   ],
   "source": [
    "zillow.info()"
   ]
  },
  {
   "cell_type": "code",
   "execution_count": 67,
   "id": "cd6e2277",
   "metadata": {},
   "outputs": [
    {
     "data": {
      "text/plain": [
       "(2152863, 7)"
      ]
     },
     "execution_count": 67,
     "metadata": {},
     "output_type": "execute_result"
    }
   ],
   "source": [
    "zillow.shape"
   ]
  },
  {
   "cell_type": "code",
   "execution_count": 68,
   "id": "6de8231f",
   "metadata": {},
   "outputs": [
    {
     "data": {
      "text/plain": [
       "2140235"
      ]
     },
     "execution_count": 68,
     "metadata": {},
     "output_type": "execute_result"
    }
   ],
   "source": [
    "zillow.value_counts().sum()"
   ]
  },
  {
   "cell_type": "code",
   "execution_count": 69,
   "id": "e6a3b6dd",
   "metadata": {},
   "outputs": [],
   "source": [
    "zillow = zillow.rename(columns = {'bedroomcnt': 'bedrooms',\n",
    "                                 'bathroomcnt': 'bathrooms',\n",
    "                                 'calculatedfinishedsquarefeet': 'sqft',\n",
    "                                 'taxvaluedollarcnt': 'tax_value',\n",
    "                                 'taxamount': 'tax_amount',\n",
    "                                 'yearbuilt': 'year_built'})"
   ]
  },
  {
   "cell_type": "code",
   "execution_count": 70,
   "id": "c0bd3a91",
   "metadata": {},
   "outputs": [
    {
     "data": {
      "text/html": [
       "<div>\n",
       "<style scoped>\n",
       "    .dataframe tbody tr th:only-of-type {\n",
       "        vertical-align: middle;\n",
       "    }\n",
       "\n",
       "    .dataframe tbody tr th {\n",
       "        vertical-align: top;\n",
       "    }\n",
       "\n",
       "    .dataframe thead th {\n",
       "        text-align: right;\n",
       "    }\n",
       "</style>\n",
       "<table border=\"1\" class=\"dataframe\">\n",
       "  <thead>\n",
       "    <tr style=\"text-align: right;\">\n",
       "      <th></th>\n",
       "      <th>count</th>\n",
       "      <th>mean</th>\n",
       "      <th>std</th>\n",
       "      <th>min</th>\n",
       "      <th>25%</th>\n",
       "      <th>50%</th>\n",
       "      <th>75%</th>\n",
       "      <th>max</th>\n",
       "    </tr>\n",
       "  </thead>\n",
       "  <tbody>\n",
       "    <tr>\n",
       "      <th>bedrooms</th>\n",
       "      <td>2152852.0</td>\n",
       "      <td>3.287196</td>\n",
       "      <td>0.954754</td>\n",
       "      <td>0.00</td>\n",
       "      <td>3.00</td>\n",
       "      <td>3.00</td>\n",
       "      <td>4.00</td>\n",
       "      <td>25.00</td>\n",
       "    </tr>\n",
       "    <tr>\n",
       "      <th>bathrooms</th>\n",
       "      <td>2152852.0</td>\n",
       "      <td>2.230688</td>\n",
       "      <td>0.999280</td>\n",
       "      <td>0.00</td>\n",
       "      <td>2.00</td>\n",
       "      <td>2.00</td>\n",
       "      <td>3.00</td>\n",
       "      <td>32.00</td>\n",
       "    </tr>\n",
       "    <tr>\n",
       "      <th>sqft</th>\n",
       "      <td>2144379.0</td>\n",
       "      <td>1862.855178</td>\n",
       "      <td>1222.125124</td>\n",
       "      <td>1.00</td>\n",
       "      <td>1257.00</td>\n",
       "      <td>1623.00</td>\n",
       "      <td>2208.00</td>\n",
       "      <td>952576.00</td>\n",
       "    </tr>\n",
       "    <tr>\n",
       "      <th>tax_value</th>\n",
       "      <td>2152370.0</td>\n",
       "      <td>461896.237963</td>\n",
       "      <td>699676.049600</td>\n",
       "      <td>1.00</td>\n",
       "      <td>188170.25</td>\n",
       "      <td>327671.00</td>\n",
       "      <td>534527.00</td>\n",
       "      <td>98428909.00</td>\n",
       "    </tr>\n",
       "    <tr>\n",
       "      <th>year_built</th>\n",
       "      <td>2143526.0</td>\n",
       "      <td>1960.949681</td>\n",
       "      <td>22.162196</td>\n",
       "      <td>1801.00</td>\n",
       "      <td>1949.00</td>\n",
       "      <td>1958.00</td>\n",
       "      <td>1976.00</td>\n",
       "      <td>2016.00</td>\n",
       "    </tr>\n",
       "    <tr>\n",
       "      <th>tax_amount</th>\n",
       "      <td>2148421.0</td>\n",
       "      <td>5634.865978</td>\n",
       "      <td>8178.910249</td>\n",
       "      <td>1.85</td>\n",
       "      <td>2534.98</td>\n",
       "      <td>4108.95</td>\n",
       "      <td>6414.32</td>\n",
       "      <td>1337755.86</td>\n",
       "    </tr>\n",
       "    <tr>\n",
       "      <th>fips</th>\n",
       "      <td>2152863.0</td>\n",
       "      <td>6048.377335</td>\n",
       "      <td>20.433292</td>\n",
       "      <td>6037.00</td>\n",
       "      <td>6037.00</td>\n",
       "      <td>6037.00</td>\n",
       "      <td>6059.00</td>\n",
       "      <td>6111.00</td>\n",
       "    </tr>\n",
       "  </tbody>\n",
       "</table>\n",
       "</div>"
      ],
      "text/plain": [
       "                count           mean            std      min        25%  \\\n",
       "bedrooms    2152852.0       3.287196       0.954754     0.00       3.00   \n",
       "bathrooms   2152852.0       2.230688       0.999280     0.00       2.00   \n",
       "sqft        2144379.0    1862.855178    1222.125124     1.00    1257.00   \n",
       "tax_value   2152370.0  461896.237963  699676.049600     1.00  188170.25   \n",
       "year_built  2143526.0    1960.949681      22.162196  1801.00    1949.00   \n",
       "tax_amount  2148421.0    5634.865978    8178.910249     1.85    2534.98   \n",
       "fips        2152863.0    6048.377335      20.433292  6037.00    6037.00   \n",
       "\n",
       "                  50%        75%          max  \n",
       "bedrooms         3.00       4.00        25.00  \n",
       "bathrooms        2.00       3.00        32.00  \n",
       "sqft          1623.00    2208.00    952576.00  \n",
       "tax_value   327671.00  534527.00  98428909.00  \n",
       "year_built    1958.00    1976.00      2016.00  \n",
       "tax_amount    4108.95    6414.32   1337755.86  \n",
       "fips          6037.00    6059.00      6111.00  "
      ]
     },
     "execution_count": 70,
     "metadata": {},
     "output_type": "execute_result"
    }
   ],
   "source": [
    "zillow.describe().T"
   ]
  },
  {
   "cell_type": "markdown",
   "id": "e96c7e91",
   "metadata": {},
   "source": [
    "#### Acquire and Summarize Takeaways\n",
    "- Over 2M rows\n",
    "- All data types are float but most should be int\n",
    "- Many nulls"
   ]
  },
  {
   "cell_type": "code",
   "execution_count": 71,
   "id": "baef11b9",
   "metadata": {},
   "outputs": [
    {
     "data": {
      "text/plain": [
       "bedrooms       True\n",
       "bathrooms      True\n",
       "sqft           True\n",
       "tax_value      True\n",
       "year_built     True\n",
       "tax_amount     True\n",
       "fips          False\n",
       "dtype: bool"
      ]
     },
     "execution_count": 71,
     "metadata": {},
     "output_type": "execute_result"
    }
   ],
   "source": [
    "zillow.isnull().any()"
   ]
  },
  {
   "cell_type": "code",
   "execution_count": 72,
   "id": "0867a127",
   "metadata": {},
   "outputs": [
    {
     "data": {
      "text/plain": [
       "bedrooms        11\n",
       "bathrooms       11\n",
       "sqft          8484\n",
       "tax_value      493\n",
       "year_built    9337\n",
       "tax_amount    4442\n",
       "fips             0\n",
       "dtype: int64"
      ]
     },
     "execution_count": 72,
     "metadata": {},
     "output_type": "execute_result"
    }
   ],
   "source": [
    "zillow.isnull().sum()"
   ]
  },
  {
   "cell_type": "code",
   "execution_count": 73,
   "id": "cfa6e56b",
   "metadata": {},
   "outputs": [
    {
     "data": {
      "text/plain": [
       "Index(['bedrooms', 'bathrooms', 'sqft', 'tax_value', 'year_built',\n",
       "       'tax_amount'],\n",
       "      dtype='object')"
      ]
     },
     "execution_count": 73,
     "metadata": {},
     "output_type": "execute_result"
    }
   ],
   "source": [
    "zillow.columns[zillow.isnull().any()]"
   ]
  },
  {
   "cell_type": "code",
   "execution_count": 74,
   "id": "c9c4d1e9",
   "metadata": {},
   "outputs": [
    {
     "data": {
      "text/plain": [
       "25.0         1\n",
       "16.0         2\n",
       "18.0         3\n",
       "15.0         6\n",
       "14.0         7\n",
       "NaN         11\n",
       "12.0        12\n",
       "13.0        16\n",
       "11.0        34\n",
       "10.0       121\n",
       "9.0        291\n",
       "8.0       1107\n",
       "7.0       4807\n",
       "0.0      13187\n",
       "1.0      23166\n",
       "6.0      25166\n",
       "5.0     150866\n",
       "2.0     335473\n",
       "4.0     634289\n",
       "3.0     964298\n",
       "Name: bedrooms, dtype: int64"
      ]
     },
     "execution_count": 74,
     "metadata": {},
     "output_type": "execute_result"
    }
   ],
   "source": [
    "zillow.bedrooms.value_counts(dropna=False, ascending=True)"
   ]
  },
  {
   "cell_type": "code",
   "execution_count": 75,
   "id": "e6b73a2b",
   "metadata": {},
   "outputs": [
    {
     "data": {
      "text/plain": [
       "19.50         1\n",
       "32.00         1\n",
       "14.50         1\n",
       "19.00         1\n",
       "11.50         3\n",
       "1.75          3\n",
       "12.50         3\n",
       "17.00         4\n",
       "20.00         6\n",
       "18.00         8\n",
       "NaN          11\n",
       "16.00        12\n",
       "10.50        14\n",
       "0.50         16\n",
       "15.00        17\n",
       "14.00        25\n",
       "13.00        39\n",
       "9.50         50\n",
       "12.00        73\n",
       "8.50        110\n",
       "11.00       146\n",
       "10.00       325\n",
       "7.50        384\n",
       "9.00        713\n",
       "6.50       1333\n",
       "8.00       1692\n",
       "7.00       4394\n",
       "5.50       6217\n",
       "6.00      10747\n",
       "0.00      13027\n",
       "4.50      19506\n",
       "5.00      28362\n",
       "3.50      28518\n",
       "1.50      31211\n",
       "4.00      82155\n",
       "2.50     142981\n",
       "1.00     414324\n",
       "3.00     422841\n",
       "2.00     943589\n",
       "Name: bathrooms, dtype: int64"
      ]
     },
     "execution_count": 75,
     "metadata": {},
     "output_type": "execute_result"
    }
   ],
   "source": [
    "zillow.bathrooms.value_counts(dropna=False, ascending=True)"
   ]
  },
  {
   "cell_type": "code",
   "execution_count": 76,
   "id": "001fdaf6",
   "metadata": {},
   "outputs": [
    {
     "name": "stdout",
     "output_type": "stream",
     "text": [
      "<class 'pandas.core.frame.DataFrame'>\n",
      "Int64Index: 2140235 entries, 4 to 2152862\n",
      "Data columns (total 7 columns):\n",
      " #   Column      Dtype  \n",
      "---  ------      -----  \n",
      " 0   bedrooms    float64\n",
      " 1   bathrooms   float64\n",
      " 2   sqft        float64\n",
      " 3   tax_value   float64\n",
      " 4   year_built  float64\n",
      " 5   tax_amount  float64\n",
      " 6   fips        float64\n",
      "dtypes: float64(7)\n",
      "memory usage: 130.6 MB\n"
     ]
    }
   ],
   "source": [
    "# Dropping the null values\n",
    "zillow = zillow.dropna()\n",
    "zillow.info()"
   ]
  },
  {
   "cell_type": "code",
   "execution_count": 77,
   "id": "5fb127c2",
   "metadata": {},
   "outputs": [
    {
     "data": {
      "text/plain": [
       "bedrooms      0\n",
       "bathrooms     0\n",
       "sqft          0\n",
       "tax_value     0\n",
       "year_built    0\n",
       "tax_amount    0\n",
       "fips          0\n",
       "dtype: int64"
      ]
     },
     "execution_count": 77,
     "metadata": {},
     "output_type": "execute_result"
    }
   ],
   "source": [
    "zillow.isnull().sum()"
   ]
  },
  {
   "cell_type": "code",
   "execution_count": 78,
   "id": "5f702b65",
   "metadata": {},
   "outputs": [
    {
     "data": {
      "text/plain": [
       "(2140235, 7)"
      ]
     },
     "execution_count": 78,
     "metadata": {},
     "output_type": "execute_result"
    }
   ],
   "source": [
    "zillow.shape"
   ]
  },
  {
   "cell_type": "code",
   "execution_count": 80,
   "id": "6b01cd47",
   "metadata": {},
   "outputs": [
    {
     "name": "stdout",
     "output_type": "stream",
     "text": [
      "<class 'pandas.core.frame.DataFrame'>\n",
      "Int64Index: 2140235 entries, 4 to 2152862\n",
      "Data columns (total 7 columns):\n",
      " #   Column      Dtype  \n",
      "---  ------      -----  \n",
      " 0   bedrooms    int64  \n",
      " 1   bathrooms   float64\n",
      " 2   sqft        int64  \n",
      " 3   tax_value   float64\n",
      " 4   year_built  int64  \n",
      " 5   tax_amount  float64\n",
      " 6   fips        int64  \n",
      "dtypes: float64(3), int64(4)\n",
      "memory usage: 130.6 MB\n"
     ]
    }
   ],
   "source": [
    "# Change bedroom count, year built, calculated finished squarefeet, and fips value type to int\n",
    "zillow.bedrooms = zillow.bedrooms.astype('int64')\n",
    "zillow.sqft = zillow.sqft.astype('int64')\n",
    "zillow.year_built = zillow.year_built.astype('int64')\n",
    "zillow.fips = zillow.fips.astype('int64')\n",
    "\n",
    "zillow.info()"
   ]
  },
  {
   "cell_type": "code",
   "execution_count": 85,
   "id": "8f022443",
   "metadata": {},
   "outputs": [
    {
     "data": {
      "text/plain": [
       "3     962944\n",
       "4     633608\n",
       "2     334221\n",
       "5     150671\n",
       "6      25117\n",
       "1      22895\n",
       "7       4792\n",
       "0       4397\n",
       "8       1103\n",
       "9        290\n",
       "10       118\n",
       "11        34\n",
       "13        15\n",
       "12        12\n",
       "14         7\n",
       "15         5\n",
       "18         3\n",
       "16         2\n",
       "25         1\n",
       "Name: bedrooms, dtype: int64"
      ]
     },
     "execution_count": 85,
     "metadata": {},
     "output_type": "execute_result"
    }
   ],
   "source": [
    "zillow.bedrooms.value_counts()"
   ]
  },
  {
   "cell_type": "code",
   "execution_count": 86,
   "id": "d7ac66e4",
   "metadata": {},
   "outputs": [
    {
     "data": {
      "text/plain": [
       "2.00     942463\n",
       "3.00     422398\n",
       "1.00     412582\n",
       "2.50     142827\n",
       "4.00      82039\n",
       "1.50      31157\n",
       "3.50      28464\n",
       "5.00      28306\n",
       "4.50      19474\n",
       "6.00      10717\n",
       "5.50       6201\n",
       "7.00       4381\n",
       "0.00       4274\n",
       "8.00       1681\n",
       "6.50       1330\n",
       "9.00        707\n",
       "7.50        382\n",
       "10.00       322\n",
       "11.00       145\n",
       "8.50        108\n",
       "12.00        73\n",
       "9.50         50\n",
       "13.00        39\n",
       "14.00        25\n",
       "15.00        17\n",
       "0.50         16\n",
       "10.50        14\n",
       "16.00        12\n",
       "18.00         8\n",
       "20.00         6\n",
       "17.00         4\n",
       "1.75          3\n",
       "12.50         3\n",
       "11.50         3\n",
       "14.50         1\n",
       "32.00         1\n",
       "19.50         1\n",
       "19.00         1\n",
       "Name: bathrooms, dtype: int64"
      ]
     },
     "execution_count": 86,
     "metadata": {},
     "output_type": "execute_result"
    }
   ],
   "source": [
    "zillow.bathrooms.value_counts()"
   ]
  },
  {
   "cell_type": "code",
   "execution_count": 88,
   "id": "96071ed2",
   "metadata": {},
   "outputs": [
    {
     "data": {
      "text/plain": [
       "450000.0     820\n",
       "500000.0     774\n",
       "400000.0     723\n",
       "430000.0     690\n",
       "440000.0     683\n",
       "            ... \n",
       "1210005.0      1\n",
       "238757.0       1\n",
       "1082111.0      1\n",
       "1216800.0      1\n",
       "1436013.0      1\n",
       "Name: tax_value, Length: 588178, dtype: int64"
      ]
     },
     "execution_count": 88,
     "metadata": {},
     "output_type": "execute_result"
    }
   ],
   "source": [
    "zillow.tax_value.value_counts()"
   ]
  },
  {
   "cell_type": "code",
   "execution_count": 93,
   "id": "345de4e9",
   "metadata": {},
   "outputs": [
    {
     "data": {
      "image/png": "[encoded data removed]",
      "text/plain": [
       "<Figure size 1152x216 with 6 Axes>"
      ]
     },
     "metadata": {
      "needs_background": "light"
     },
     "output_type": "display_data"
    }
   ],
   "source": [
    "plt.figure(figsize=(16, 3))\n",
    "\n",
    "# List of columns\n",
    "cols = ['bedrooms', 'bathrooms', 'sqft', 'year_built', 'tax_value', 'tax_amount']\n",
    "\n",
    "for i, col in enumerate(cols):\n",
    "\n",
    "    # i starts at 0, but plot nos should start at 1\n",
    "    plot_number = i + 1 \n",
    "\n",
    "    # Create subplot.\n",
    "    plt.subplot(1,len(cols), plot_number)\n",
    "\n",
    "    # Title with column name.\n",
    "    plt.title(col)\n",
    "\n",
    "    # Display histogram for column.\n",
    "    zillow[col].hist(bins=50)\n",
    "\n",
    "    # Hide gridlines.\n",
    "    plt.grid(False)\n",
    "    \n",
    "    # turn off scientific notation\n",
    "    plt.ticklabel_format(useOffset=False)\n",
    "    \n",
    "    # mitigate overlap\n",
    "    plt.tight_layout()"
   ]
  },
  {
   "cell_type": "code",
   "execution_count": 37,
   "id": "27489fc5",
   "metadata": {},
   "outputs": [
    {
     "data": {
      "image/png": "[encoded data removed]",
      "text/plain": [
       "<Figure size 576x432 with 1 Axes>"
      ]
     },
     "metadata": {
      "needs_background": "light"
     },
     "output_type": "display_data"
    }
   ],
   "source": [
    "plt.figure(figsize=(8,6))\n",
    "\n",
    "sns.boxplot(data=zillow.drop(columns=['fips', 'calculatedfinishedsquarefeet', 'taxvaluedollarcnt', 'taxamount', 'yearbuilt']))\n",
    "plt.show()"
   ]
  },
  {
   "cell_type": "code",
   "execution_count": 48,
   "id": "d65ef220",
   "metadata": {},
   "outputs": [
    {
     "data": {
      "image/png": "[encoded data removed]",
      "text/plain": [
       "<Figure size 576x432 with 1 Axes>"
      ]
     },
     "metadata": {
      "needs_background": "light"
     },
     "output_type": "display_data"
    }
   ],
   "source": [
    "plt.figure(figsize=(8,6))\n",
    "\n",
    "sns.boxplot(data=zillow.drop(columns=['fips', 'taxvaluedollarcnt', 'taxamount', 'yearbuilt', 'bedroomcnt', 'bathroomcnt']))\n",
    "plt.show()"
   ]
  },
  {
   "cell_type": "markdown",
   "id": "73696bfb",
   "metadata": {},
   "source": [
    "#### Findings:\n",
    "- There are several outliers in each category that are skewing the data"
   ]
  },
  {
   "cell_type": "markdown",
   "id": "844993c5",
   "metadata": {},
   "source": [
    "#### Manually removing outliers"
   ]
  },
  {
   "cell_type": "code",
   "execution_count": 105,
   "id": "9114e7d0",
   "metadata": {},
   "outputs": [
    {
     "data": {
      "text/plain": [
       "4          True\n",
       "6          True\n",
       "7          True\n",
       "11         True\n",
       "14         True\n",
       "           ... \n",
       "2152856    True\n",
       "2152858    True\n",
       "2152859    True\n",
       "2152861    True\n",
       "2152862    True\n",
       "Name: bathrooms, Length: 2140235, dtype: bool"
      ]
     },
     "execution_count": 105,
     "metadata": {},
     "output_type": "execute_result"
    }
   ],
   "source": [
    "zillow.bathrooms <= 8"
   ]
  },
  {
   "cell_type": "code",
   "execution_count": 114,
   "id": "1cb6aeb2",
   "metadata": {},
   "outputs": [],
   "source": [
    "zillow_noutliers = zillow[(zillow.bathrooms <= 8) & (zillow.bathrooms >= 1)]"
   ]
  },
  {
   "cell_type": "code",
   "execution_count": 119,
   "id": "92f06ce1",
   "metadata": {},
   "outputs": [],
   "source": [
    "zillow_noutliers = zillow_noutliers[(zillow_noutliers.bathrooms != 7.50) & (zillow_noutliers.bathrooms != 1.75)]"
   ]
  },
  {
   "cell_type": "code",
   "execution_count": 120,
   "id": "d7a73d8a",
   "metadata": {},
   "outputs": [
    {
     "data": {
      "text/plain": [
       "2.0    942463\n",
       "3.0    422398\n",
       "1.0    412582\n",
       "2.5    142827\n",
       "4.0     82039\n",
       "1.5     31157\n",
       "3.5     28464\n",
       "5.0     28306\n",
       "4.5     19474\n",
       "6.0     10717\n",
       "5.5      6201\n",
       "7.0      4381\n",
       "8.0      1681\n",
       "6.5      1330\n",
       "Name: bathrooms, dtype: int64"
      ]
     },
     "execution_count": 120,
     "metadata": {},
     "output_type": "execute_result"
    }
   ],
   "source": [
    "zillow_noutliers.bathrooms.value_counts()"
   ]
  },
  {
   "cell_type": "code",
   "execution_count": 121,
   "id": "62c02714",
   "metadata": {},
   "outputs": [
    {
     "data": {
      "text/plain": [
       "3     962615\n",
       "4     633286\n",
       "2     334046\n",
       "5     150325\n",
       "6      24528\n",
       "1      22725\n",
       "7       4306\n",
       "0       1033\n",
       "8        855\n",
       "9        202\n",
       "10        66\n",
       "11        16\n",
       "12         6\n",
       "13         5\n",
       "14         3\n",
       "15         2\n",
       "16         1\n",
       "Name: bedrooms, dtype: int64"
      ]
     },
     "execution_count": 121,
     "metadata": {},
     "output_type": "execute_result"
    }
   ],
   "source": [
    "zillow_noutliers.bedrooms.value_counts()"
   ]
  },
  {
   "cell_type": "code",
   "execution_count": 122,
   "id": "4da97b4d",
   "metadata": {},
   "outputs": [],
   "source": [
    "zillow_noutliers.bedrooms = zillow_noutliers.bedrooms[zillow_noutliers.bedrooms < 9]"
   ]
  },
  {
   "cell_type": "code",
   "execution_count": 123,
   "id": "1aefddfb",
   "metadata": {},
   "outputs": [
    {
     "data": {
      "text/plain": [
       "3.0    962615\n",
       "4.0    633286\n",
       "2.0    334046\n",
       "5.0    150325\n",
       "6.0     24528\n",
       "1.0     22725\n",
       "7.0      4306\n",
       "0.0      1033\n",
       "8.0       855\n",
       "Name: bedrooms, dtype: int64"
      ]
     },
     "execution_count": 123,
     "metadata": {},
     "output_type": "execute_result"
    }
   ],
   "source": [
    "zillow_noutliers.bedrooms.value_counts()"
   ]
  },
  {
   "cell_type": "code",
   "execution_count": 126,
   "id": "c47e11d4",
   "metadata": {},
   "outputs": [
    {
     "data": {
      "text/plain": [
       "1200     5170\n",
       "1080     4370\n",
       "1120     4346\n",
       "1400     3828\n",
       "1440     3675\n",
       "         ... \n",
       "13632       1\n",
       "9538        1\n",
       "179         1\n",
       "9549        1\n",
       "8480        1\n",
       "Name: sqft, Length: 9554, dtype: int64"
      ]
     },
     "execution_count": 126,
     "metadata": {},
     "output_type": "execute_result"
    }
   ],
   "source": [
    "zillow_noutliers.sqft.value_counts()"
   ]
  },
  {
   "cell_type": "code",
   "execution_count": 125,
   "id": "9209744e",
   "metadata": {},
   "outputs": [
    {
     "data": {
      "image/png": "[encoded data removed]",
      "text/plain": [
       "<Figure size 1152x216 with 5 Axes>"
      ]
     },
     "metadata": {
      "needs_background": "light"
     },
     "output_type": "display_data"
    }
   ],
   "source": [
    "plt.figure(figsize=(16, 3))\n",
    "\n",
    "# List of columns\n",
    "cols = [col for col in zillow_noutliers.columns if col not in ['fips', 'year_built']]\n",
    "\n",
    "for i, col in enumerate(cols):\n",
    "\n",
    "    # i starts at 0, but plot nos should start at 1\n",
    "    plot_number = i + 1 \n",
    "\n",
    "    # Create subplot.\n",
    "    plt.subplot(1, len(cols), plot_number)\n",
    "\n",
    "    # Title with column name.\n",
    "    plt.title(col)\n",
    "\n",
    "    # Display histogram for column.\n",
    "    zillow_noutliers[col].hist(bins=5)\n",
    "\n",
    "    # Hide gridlines.\n",
    "    plt.grid(False)\n",
    "    \n",
    "    # turn off scientific notation\n",
    "    plt.ticklabel_format(useOffset=False)"
   ]
  },
  {
   "cell_type": "markdown",
   "id": "eeca8b8d",
   "metadata": {},
   "source": [
    "#### Removing outliers using quantile"
   ]
  },
  {
   "cell_type": "code",
   "execution_count": 127,
   "id": "2ffff193",
   "metadata": {},
   "outputs": [
    {
     "name": "stdout",
     "output_type": "stream",
     "text": [
      "<class 'pandas.core.frame.DataFrame'>\n",
      "Int64Index: 2140235 entries, 4 to 2152862\n",
      "Data columns (total 7 columns):\n",
      " #   Column      Dtype  \n",
      "---  ------      -----  \n",
      " 0   bedrooms    int64  \n",
      " 1   bathrooms   float64\n",
      " 2   sqft        int64  \n",
      " 3   tax_value   float64\n",
      " 4   year_built  int64  \n",
      " 5   tax_amount  float64\n",
      " 6   fips        int64  \n",
      "dtypes: float64(3), int64(4)\n",
      "memory usage: 130.6 MB\n"
     ]
    }
   ],
   "source": [
    "zillow.info()"
   ]
  },
  {
   "cell_type": "code",
   "execution_count": 183,
   "id": "688ce201",
   "metadata": {},
   "outputs": [],
   "source": [
    "\n",
    "def remove_outliers(df, k, col_list):\n",
    "    ''' remove outliers from a list of columns in a dataframe \n",
    "        and return that dataframe\n",
    "    '''\n",
    "    \n",
    "    for col in col_list:\n",
    "\n",
    "        q1, q3 = df[col].quantile([.1, .9])  # get quartiles\n",
    "        \n",
    "        iqr = q3 - q1   # calculate interquartile range\n",
    "        \n",
    "        upper_bound = q3 + k * iqr   # get upper bound\n",
    "        lower_bound = q1 - k * iqr   # get lower bound\n",
    "\n",
    "        # return dataframe without outliers\n",
    "        \n",
    "        df = df[(df[col] > lower_bound) & (df[col] < upper_bound)]\n",
    "        \n",
    "    return df"
   ]
  },
  {
   "cell_type": "code",
   "execution_count": 184,
   "id": "41ff2af5",
   "metadata": {},
   "outputs": [
    {
     "data": {
      "text/plain": [
       "(2077242, 7)"
      ]
     },
     "execution_count": 184,
     "metadata": {},
     "output_type": "execute_result"
    }
   ],
   "source": [
    "zillow_df = remove_outliers(zillow, 1.5, ['bedrooms', 'bathrooms', 'sqft', 'tax_value', 'tax_amount'])\n",
    "zillow_df.shape"
   ]
  },
  {
   "cell_type": "code",
   "execution_count": 185,
   "id": "72071943",
   "metadata": {},
   "outputs": [
    {
     "data": {
      "text/plain": [
       "2.00    939241\n",
       "3.00    414129\n",
       "1.00    411864\n",
       "2.50    141978\n",
       "4.00     71763\n",
       "1.50     31102\n",
       "3.50     26280\n",
       "5.00     18496\n",
       "4.50     15462\n",
       "0.00      4077\n",
       "5.50      2834\n",
       "0.50        13\n",
       "1.75         3\n",
       "Name: bathrooms, dtype: int64"
      ]
     },
     "execution_count": 185,
     "metadata": {},
     "output_type": "execute_result"
    }
   ],
   "source": [
    "zillow_df.bathrooms.value_counts()"
   ]
  },
  {
   "cell_type": "code",
   "execution_count": 186,
   "id": "27768c2b",
   "metadata": {},
   "outputs": [
    {
     "data": {
      "text/plain": [
       "3    953234\n",
       "4    615627\n",
       "2    331910\n",
       "5    131726\n",
       "1     22681\n",
       "6     17878\n",
       "0      4186\n",
       "Name: bedrooms, dtype: int64"
      ]
     },
     "execution_count": 186,
     "metadata": {},
     "output_type": "execute_result"
    }
   ],
   "source": [
    "zillow_df.bedrooms.value_counts()"
   ]
  },
  {
   "cell_type": "code",
   "execution_count": 187,
   "id": "876fc1f9",
   "metadata": {},
   "outputs": [
    {
     "data": {
      "image/png": "[encoded data removed]",
      "text/plain": [
       "<Figure size 1152x216 with 5 Axes>"
      ]
     },
     "metadata": {
      "needs_background": "light"
     },
     "output_type": "display_data"
    }
   ],
   "source": [
    "plt.figure(figsize=(16, 3))\n",
    "\n",
    "# List of columns\n",
    "cols = [col for col in zillow_noutliers.columns if col not in ['fips', 'year_built']]\n",
    "\n",
    "for i, col in enumerate(cols):\n",
    "\n",
    "    # i starts at 0, but plot nos should start at 1\n",
    "    plot_number = i + 1 \n",
    "\n",
    "    # Create subplot.\n",
    "    plt.subplot(1, len(cols), plot_number)\n",
    "\n",
    "    # Title with column name.\n",
    "    plt.title(col)\n",
    "\n",
    "    # Display histogram for column.\n",
    "    zillow_df[col].hist(bins=5)\n",
    "\n",
    "    # Hide gridlines.\n",
    "    plt.grid(False)\n",
    "    \n",
    "    # turn off scientific notation\n",
    "    plt.ticklabel_format(useOffset=False)"
   ]
  },
  {
   "cell_type": "markdown",
   "id": "93f5aa2a",
   "metadata": {},
   "source": [
    "### Splitting the Data"
   ]
  },
  {
   "cell_type": "code",
   "execution_count": 102,
   "id": "851b9cfb",
   "metadata": {},
   "outputs": [],
   "source": [
    "x_train_and_validate, x_test = train_test_split(zillow.drop(columns=['fips']), random_state=123)\n",
    "x_train, x_validate = train_test_split(x_train_and_validate)"
   ]
  },
  {
   "cell_type": "markdown",
   "id": "1d3d7190",
   "metadata": {},
   "source": [
    "### Scaling"
   ]
  },
  {
   "cell_type": "code",
   "execution_count": 103,
   "id": "4b09a237",
   "metadata": {},
   "outputs": [
    {
     "data": {
      "text/plain": [
       "Text(0.5, 1.0, 'Scaled')"
      ]
     },
     "execution_count": 103,
     "metadata": {},
     "output_type": "execute_result"
    },
    {
     "data": {
      "image/png": "[encoded data removed]",
      "text/plain": [
       "<Figure size 936x432 with 2 Axes>"
      ]
     },
     "metadata": {
      "needs_background": "light"
     },
     "output_type": "display_data"
    }
   ],
   "source": [
    "# Since I haven't removed outliers yet, I am going to use the Robust Scaler firt to see how it does. \n",
    "# It removes the outer quartiles before scaling so should work similar to removing outlieers then scaling. \n",
    "\n",
    "scaler = sklearn.preprocessing.RobustScaler()\n",
    "# Note that we only call .fit with the training data,\n",
    "# but we use .transform to apply the scaling to all the data splits.\n",
    "scaler.fit(x_train)\n",
    "\n",
    "x_train_scaled = scaler.transform(x_train)\n",
    "x_validate_scaled = scaler.transform(x_validate)\n",
    "x_test_scaled = scaler.transform(x_test)\n",
    "\n",
    "plt.figure(figsize=(13, 6))\n",
    "plt.subplot(121)\n",
    "plt.hist(x_train, bins=25, ec='black')\n",
    "plt.title('Original')\n",
    "plt.subplot(122)\n",
    "plt.hist(x_train_scaled, bins=25, ec='black')\n",
    "plt.title('Scaled')"
   ]
  },
  {
   "cell_type": "code",
   "execution_count": null,
   "id": "09ce5d9c",
   "metadata": {},
   "outputs": [],
   "source": []
  }
 ],
 "metadata": {
  "kernelspec": {
   "display_name": "Python 3",
   "language": "python",
   "name": "python3"
  },
  "language_info": {
   "codemirror_mode": {
    "name": "ipython",
    "version": 3
   },
   "file_extension": ".py",
   "mimetype": "text/x-python",
   "name": "python",
   "nbconvert_exporter": "python",
   "pygments_lexer": "ipython3",
   "version": "3.8.8"
  }
 },
 "nbformat": 4,
 "nbformat_minor": 5
}
