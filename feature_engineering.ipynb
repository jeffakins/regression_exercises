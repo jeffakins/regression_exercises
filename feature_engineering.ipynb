{
 "cells": [
  {
   "cell_type": "markdown",
   "id": "d256db98",
   "metadata": {},
   "source": [
    "## Feature Engineering"
   ]
  },
  {
   "cell_type": "code",
   "execution_count": 33,
   "id": "8e90f6f8",
   "metadata": {},
   "outputs": [],
   "source": [
    "import pandas as pd\n",
    "import numpy as np\n",
    "import pydataset\n",
    "import matplotlib.pyplot as plt\n",
    "import seaborn as sns\n",
    "\n",
    "from sklearn.feature_selection import SelectKBest, f_regression, RFE\n",
    "from sklearn.linear_model import LinearRegression\n",
    "from sklearn.model_selection import train_test_split\n",
    "from sklearn.preprocessing import StandardScaler"
   ]
  },
  {
   "cell_type": "markdown",
   "id": "a42a5c85",
   "metadata": {},
   "source": [
    "### 1. Load the tips dataset.\n",
    "\n"
   ]
  },
  {
   "cell_type": "code",
   "execution_count": 3,
   "id": "f2d2972b",
   "metadata": {},
   "outputs": [
    {
     "data": {
      "text/html": [
       "<div>\n",
       "<style scoped>\n",
       "    .dataframe tbody tr th:only-of-type {\n",
       "        vertical-align: middle;\n",
       "    }\n",
       "\n",
       "    .dataframe tbody tr th {\n",
       "        vertical-align: top;\n",
       "    }\n",
       "\n",
       "    .dataframe thead th {\n",
       "        text-align: right;\n",
       "    }\n",
       "</style>\n",
       "<table border=\"1\" class=\"dataframe\">\n",
       "  <thead>\n",
       "    <tr style=\"text-align: right;\">\n",
       "      <th></th>\n",
       "      <th>total_bill</th>\n",
       "      <th>tip</th>\n",
       "      <th>sex</th>\n",
       "      <th>smoker</th>\n",
       "      <th>day</th>\n",
       "      <th>time</th>\n",
       "      <th>size</th>\n",
       "    </tr>\n",
       "  </thead>\n",
       "  <tbody>\n",
       "    <tr>\n",
       "      <th>1</th>\n",
       "      <td>16.99</td>\n",
       "      <td>1.01</td>\n",
       "      <td>Female</td>\n",
       "      <td>No</td>\n",
       "      <td>Sun</td>\n",
       "      <td>Dinner</td>\n",
       "      <td>2</td>\n",
       "    </tr>\n",
       "  </tbody>\n",
       "</table>\n",
       "</div>"
      ],
      "text/plain": [
       "   total_bill   tip     sex smoker  day    time  size\n",
       "1       16.99  1.01  Female     No  Sun  Dinner     2"
      ]
     },
     "execution_count": 3,
     "metadata": {},
     "output_type": "execute_result"
    }
   ],
   "source": [
    "tips = pydataset.data('tips')\n",
    "tips.head(1)"
   ]
  },
  {
   "cell_type": "markdown",
   "id": "e5fc9cdc",
   "metadata": {},
   "source": [
    "#### a. Create a column named tip_percentage. This should be the tip amount divided by the total bill."
   ]
  },
  {
   "cell_type": "code",
   "execution_count": 4,
   "id": "9efbbfb8",
   "metadata": {},
   "outputs": [
    {
     "data": {
      "text/html": [
       "<div>\n",
       "<style scoped>\n",
       "    .dataframe tbody tr th:only-of-type {\n",
       "        vertical-align: middle;\n",
       "    }\n",
       "\n",
       "    .dataframe tbody tr th {\n",
       "        vertical-align: top;\n",
       "    }\n",
       "\n",
       "    .dataframe thead th {\n",
       "        text-align: right;\n",
       "    }\n",
       "</style>\n",
       "<table border=\"1\" class=\"dataframe\">\n",
       "  <thead>\n",
       "    <tr style=\"text-align: right;\">\n",
       "      <th></th>\n",
       "      <th>total_bill</th>\n",
       "      <th>tip</th>\n",
       "      <th>sex</th>\n",
       "      <th>smoker</th>\n",
       "      <th>day</th>\n",
       "      <th>time</th>\n",
       "      <th>size</th>\n",
       "      <th>tip_percentage</th>\n",
       "    </tr>\n",
       "  </thead>\n",
       "  <tbody>\n",
       "    <tr>\n",
       "      <th>1</th>\n",
       "      <td>16.99</td>\n",
       "      <td>1.01</td>\n",
       "      <td>Female</td>\n",
       "      <td>No</td>\n",
       "      <td>Sun</td>\n",
       "      <td>Dinner</td>\n",
       "      <td>2</td>\n",
       "      <td>0.059447</td>\n",
       "    </tr>\n",
       "  </tbody>\n",
       "</table>\n",
       "</div>"
      ],
      "text/plain": [
       "   total_bill   tip     sex smoker  day    time  size  tip_percentage\n",
       "1       16.99  1.01  Female     No  Sun  Dinner     2        0.059447"
      ]
     },
     "execution_count": 4,
     "metadata": {},
     "output_type": "execute_result"
    }
   ],
   "source": [
    "tips['tip_percentage'] = tips.tip / tips.total_bill\n",
    "tips.head(1)"
   ]
  },
  {
   "cell_type": "markdown",
   "id": "e855ff30",
   "metadata": {},
   "source": [
    "#### b. Create a column named price_per_person. This should be the total bill divided by the party size.\n"
   ]
  },
  {
   "cell_type": "code",
   "execution_count": 19,
   "id": "de9cdafb",
   "metadata": {},
   "outputs": [
    {
     "data": {
      "text/html": [
       "<div>\n",
       "<style scoped>\n",
       "    .dataframe tbody tr th:only-of-type {\n",
       "        vertical-align: middle;\n",
       "    }\n",
       "\n",
       "    .dataframe tbody tr th {\n",
       "        vertical-align: top;\n",
       "    }\n",
       "\n",
       "    .dataframe thead th {\n",
       "        text-align: right;\n",
       "    }\n",
       "</style>\n",
       "<table border=\"1\" class=\"dataframe\">\n",
       "  <thead>\n",
       "    <tr style=\"text-align: right;\">\n",
       "      <th></th>\n",
       "      <th>total_bill</th>\n",
       "      <th>tip</th>\n",
       "      <th>sex</th>\n",
       "      <th>smoker</th>\n",
       "      <th>day</th>\n",
       "      <th>time</th>\n",
       "      <th>party_size</th>\n",
       "      <th>tip_percentage</th>\n",
       "      <th>price_per_person</th>\n",
       "    </tr>\n",
       "  </thead>\n",
       "  <tbody>\n",
       "    <tr>\n",
       "      <th>1</th>\n",
       "      <td>16.99</td>\n",
       "      <td>1.01</td>\n",
       "      <td>Female</td>\n",
       "      <td>No</td>\n",
       "      <td>Sun</td>\n",
       "      <td>Dinner</td>\n",
       "      <td>2</td>\n",
       "      <td>0.059447</td>\n",
       "      <td>8.495000</td>\n",
       "    </tr>\n",
       "    <tr>\n",
       "      <th>2</th>\n",
       "      <td>10.34</td>\n",
       "      <td>1.66</td>\n",
       "      <td>Male</td>\n",
       "      <td>No</td>\n",
       "      <td>Sun</td>\n",
       "      <td>Dinner</td>\n",
       "      <td>3</td>\n",
       "      <td>0.160542</td>\n",
       "      <td>3.446667</td>\n",
       "    </tr>\n",
       "    <tr>\n",
       "      <th>3</th>\n",
       "      <td>21.01</td>\n",
       "      <td>3.50</td>\n",
       "      <td>Male</td>\n",
       "      <td>No</td>\n",
       "      <td>Sun</td>\n",
       "      <td>Dinner</td>\n",
       "      <td>3</td>\n",
       "      <td>0.166587</td>\n",
       "      <td>7.003333</td>\n",
       "    </tr>\n",
       "    <tr>\n",
       "      <th>4</th>\n",
       "      <td>23.68</td>\n",
       "      <td>3.31</td>\n",
       "      <td>Male</td>\n",
       "      <td>No</td>\n",
       "      <td>Sun</td>\n",
       "      <td>Dinner</td>\n",
       "      <td>2</td>\n",
       "      <td>0.139780</td>\n",
       "      <td>11.840000</td>\n",
       "    </tr>\n",
       "    <tr>\n",
       "      <th>5</th>\n",
       "      <td>24.59</td>\n",
       "      <td>3.61</td>\n",
       "      <td>Female</td>\n",
       "      <td>No</td>\n",
       "      <td>Sun</td>\n",
       "      <td>Dinner</td>\n",
       "      <td>4</td>\n",
       "      <td>0.146808</td>\n",
       "      <td>6.147500</td>\n",
       "    </tr>\n",
       "  </tbody>\n",
       "</table>\n",
       "</div>"
      ],
      "text/plain": [
       "   total_bill   tip     sex smoker  day    time  party_size  tip_percentage  \\\n",
       "1       16.99  1.01  Female     No  Sun  Dinner           2        0.059447   \n",
       "2       10.34  1.66    Male     No  Sun  Dinner           3        0.160542   \n",
       "3       21.01  3.50    Male     No  Sun  Dinner           3        0.166587   \n",
       "4       23.68  3.31    Male     No  Sun  Dinner           2        0.139780   \n",
       "5       24.59  3.61  Female     No  Sun  Dinner           4        0.146808   \n",
       "\n",
       "   price_per_person  \n",
       "1          8.495000  \n",
       "2          3.446667  \n",
       "3          7.003333  \n",
       "4         11.840000  \n",
       "5          6.147500  "
      ]
     },
     "execution_count": 19,
     "metadata": {},
     "output_type": "execute_result"
    }
   ],
   "source": [
    "tips = tips.rename(columns={'size': 'party_size'}) \n",
    "tips['price_per_person'] = tips.total_bill / tips.party_size\n",
    "tips.head(5)"
   ]
  },
  {
   "cell_type": "markdown",
   "id": "2bde8e39",
   "metadata": {},
   "source": [
    "#### c. Before using any of the methods discussed in the lesson, which features do you think would be most important for predicting the tip amount? The tip percentage?\n"
   ]
  },
  {
   "cell_type": "markdown",
   "id": "83d1a581",
   "metadata": {},
   "source": [
    "* total_bill, day, time"
   ]
  },
  {
   "cell_type": "markdown",
   "id": "8fc25b6d",
   "metadata": {},
   "source": [
    "#### d. Use select k best and recursive feature elimination to select the top 2 features for predicting tip amount. What are they?\n"
   ]
  },
  {
   "cell_type": "code",
   "execution_count": 23,
   "id": "dcd4ef40",
   "metadata": {},
   "outputs": [
    {
     "name": "stdout",
     "output_type": "stream",
     "text": [
      "<class 'pandas.core.frame.DataFrame'>\n",
      "Int64Index: 244 entries, 1 to 244\n",
      "Data columns (total 9 columns):\n",
      " #   Column            Non-Null Count  Dtype  \n",
      "---  ------            --------------  -----  \n",
      " 0   total_bill        244 non-null    float64\n",
      " 1   tip               244 non-null    float64\n",
      " 2   sex               244 non-null    object \n",
      " 3   smoker            244 non-null    object \n",
      " 4   day               244 non-null    object \n",
      " 5   time              244 non-null    object \n",
      " 6   party_size        244 non-null    int64  \n",
      " 7   tip_percentage    244 non-null    float64\n",
      " 8   price_per_person  244 non-null    float64\n",
      "dtypes: float64(4), int64(1), object(4)\n",
      "memory usage: 27.2+ KB\n"
     ]
    }
   ],
   "source": [
    "tips.info()"
   ]
  },
  {
   "cell_type": "code",
   "execution_count": 26,
   "id": "446118a0",
   "metadata": {},
   "outputs": [
    {
     "data": {
      "text/plain": [
       "Sat     87\n",
       "Sun     76\n",
       "Thur    62\n",
       "Fri     19\n",
       "Name: day, dtype: int64"
      ]
     },
     "execution_count": 26,
     "metadata": {},
     "output_type": "execute_result"
    }
   ],
   "source": [
    "tips.day.value_counts()"
   ]
  },
  {
   "cell_type": "code",
   "execution_count": 38,
   "id": "71baf88d",
   "metadata": {},
   "outputs": [],
   "source": [
    "X = tips.drop(columns=['tip', 'sex', 'smoker', 'day', 'time', 'tip_percentage'])\n",
    "y = tips.tip\n",
    "\n",
    "X_train, X_test, y_train, y_test = train_test_split(X, y, test_size=.2, random_state=123)\n",
    "scaler = StandardScaler()\n",
    "X_train_scaled = scaler.fit_transform(X_train)\n",
    "X_test_scaled = scaler.transform(X_test)"
   ]
  },
  {
   "cell_type": "code",
   "execution_count": 39,
   "id": "a9826392",
   "metadata": {},
   "outputs": [
    {
     "data": {
      "text/plain": [
       "Index(['total_bill', 'party_size'], dtype='object')"
      ]
     },
     "execution_count": 39,
     "metadata": {},
     "output_type": "execute_result"
    }
   ],
   "source": [
    "kbest = SelectKBest(f_regression, k=2)\n",
    "kbest.fit(X_train_scaled, y_train)\n",
    "kbest.fit(X_train_scaled, y_train)\n",
    "X_train.columns[kbest.get_support()]"
   ]
  },
  {
   "cell_type": "markdown",
   "id": "77ee76e2",
   "metadata": {},
   "source": [
    "#### e. Use select k best and recursive feature elimination to select the top 2 features for predicting tip percentage. What are they?\n"
   ]
  },
  {
   "cell_type": "code",
   "execution_count": 40,
   "id": "4862180b",
   "metadata": {},
   "outputs": [
    {
     "data": {
      "text/plain": [
       "array([[ 2.22751067,  1.51285289,  0.67765502],\n",
       "       [-0.4404687 , -0.57939047, -0.00598934],\n",
       "       [-0.76989051, -0.57939047, -0.50426744],\n",
       "       [-1.04984283, -0.57939047, -0.9277188 ],\n",
       "       [-1.04197269, -0.57939047, -0.91581454],\n",
       "       [ 0.02274559, -0.57939047,  0.6946611 ],\n",
       "       [-0.70130781, -0.57939047, -0.40053036],\n",
       "       [ 1.75979916,  1.51285289,  0.32392859],\n",
       "       [ 1.71145398,  1.51285289,  0.28736552],\n",
       "       [-1.07008035, -0.57939047, -0.95832974],\n",
       "       [ 0.41850148, -0.57939047,  1.29327507],\n",
       "       [-0.89918576, -0.57939047, -0.69983735],\n",
       "       [ 0.66922183,  1.51285289, -0.50086623],\n",
       "       [ 0.21275339,  1.51285289, -0.84608962],\n",
       "       [ 1.65186573,  3.60509626, -0.72988142],\n",
       "       [ 0.81538168, -0.57939047,  1.89358964],\n",
       "       [ 0.83674351,  3.60509626, -1.14086165],\n",
       "       [-0.99362751, -0.57939047, -0.84268841],\n",
       "       [-0.77213912, -0.57939047, -0.50766866],\n",
       "       [ 3.5080958 ,  0.46673121,  3.08628263],\n",
       "       [-0.65183833, -0.57939047, -0.32570362],\n",
       "       [ 3.22926778,  1.51285289,  1.43527583],\n",
       "       [-0.79462525, -0.57939047, -0.54168081],\n",
       "       [-0.1638893 ,  0.46673121, -0.61650756],\n",
       "       [ 1.48659267, -0.57939047,  2.90885254],\n",
       "       [-1.10493385, -0.57939047, -1.01104858],\n",
       "       [-0.71255088, -0.57939047, -0.41753644],\n",
       "       [-1.12517137, -0.57939047, -1.04165953],\n",
       "       [-0.24146645, -0.57939047,  0.29501825],\n",
       "       [ 0.50282447,  1.51285289, -0.62671121],\n",
       "       [-0.15377054, -0.57939047,  0.42766567],\n",
       "       [-0.36064294, -0.57939047,  0.11475382],\n",
       "       [ 0.78502541,  0.46673121,  0.3403678 ],\n",
       "       [ 1.1459278 ,  3.60509626, -0.9849726 ],\n",
       "       [ 0.10369566,  1.51285289, -0.9285691 ],\n",
       "       [-1.23985064, -1.62551215,  0.24400002],\n",
       "       [ 0.40051258,  1.51285289, -0.70408886],\n",
       "       [ 2.64237978,  1.51285289,  0.99141717],\n",
       "       [-0.26395258,  0.46673121, -0.71741029],\n",
       "       [-0.40786381,  0.46673121, -0.86252883],\n",
       "       [-0.86995379, -0.57939047, -0.65562154],\n",
       "       [ 0.85135949, -0.57939047,  1.9480091 ],\n",
       "       [-0.51354862, -0.57939047, -0.11652885],\n",
       "       [ 0.8536081 ,  1.51285289, -0.36141638],\n",
       "       [ 2.35455731, -0.57939047,  4.22172181],\n",
       "       [-0.92841773, -0.57939047, -0.74405315],\n",
       "       [-0.94865525, -0.57939047, -0.77466409],\n",
       "       [-0.71142657, -0.57939047, -0.41583583],\n",
       "       [-1.33429238, -0.57939047, -1.35797259],\n",
       "       [-0.3707617 ,  0.46673121, -0.82511546],\n",
       "       [-0.90143437, -0.57939047, -0.70323856],\n",
       "       [-0.14814901,  1.51285289, -1.11903718],\n",
       "       [ 0.23523952, -0.57939047,  1.01607599],\n",
       "       [-0.13240871,  1.51285289, -1.10713293],\n",
       "       [-0.57650979, -0.57939047, -0.21176289],\n",
       "       [ 0.57365578, -0.57939047,  1.52795895],\n",
       "       [ 0.28246039, -0.57939047,  1.08750152],\n",
       "       [ 1.49446282, -0.57939047,  2.92075679],\n",
       "       [-0.78113358, -0.57939047, -0.52127352],\n",
       "       [ 1.21338619,  1.51285289, -0.08931912],\n",
       "       [ 1.68896785, -0.57939047,  3.21496195],\n",
       "       [ 0.99302211, -0.57939047,  2.16228569],\n",
       "       [ 0.05310186,  0.46673121, -0.39769602],\n",
       "       [ 0.0767123 , -0.57939047,  0.77629028],\n",
       "       [-0.74290715, -0.57939047, -0.46345285],\n",
       "       [-0.36963739, -0.57939047,  0.10114896],\n",
       "       [ 0.8176303 ,  1.51285289, -0.38862611],\n",
       "       [-1.1307929 , -0.57939047, -1.05016256],\n",
       "       [ 0.96041722,  2.55897458, -0.75935862],\n",
       "       [-0.69568628, -0.57939047, -0.39202732],\n",
       "       [ 0.12168456,  2.55897458, -1.26682001],\n",
       "       [ 0.00475668, -0.57939047,  0.66745138],\n",
       "       [ 0.50057586,  0.46673121,  0.05353194],\n",
       "       [-0.29430885, -0.57939047,  0.21508968],\n",
       "       [ 0.55229396,  0.46673121,  0.10568391],\n",
       "       [-0.14814901, -0.57939047,  0.43616871],\n",
       "       [ 1.36067034,  1.51285289,  0.02207069],\n",
       "       [-0.40111797,  0.46673121, -0.8557264 ],\n",
       "       [ 3.22252194,  1.51285289,  1.430174  ],\n",
       "       [-0.68556752, -0.57939047, -0.37672185],\n",
       "       [ 0.29482776, -0.57939047,  1.1062082 ],\n",
       "       [ 0.60626067,  1.51285289, -0.54848325],\n",
       "       [-0.35277279,  0.46673121, -0.80697564],\n",
       "       [ 0.14754361, -0.57939047,  0.88342857],\n",
       "       [-1.043097  ,  0.46673121, -1.50309113],\n",
       "       [ 2.14993352,  1.51285289,  0.61898405],\n",
       "       [-0.6136119 , -0.57939047, -0.26788295],\n",
       "       [ 1.16054378,  1.51285289, -0.12928341],\n",
       "       [-0.74290715, -0.57939047, -0.46345285],\n",
       "       [-0.54840213, -0.57939047, -0.16924769],\n",
       "       [-0.6304765 , -0.57939047, -0.29339207],\n",
       "       [-0.10317674,  0.46673121, -0.55528568],\n",
       "       [-0.77776066, -0.57939047, -0.5161717 ],\n",
       "       [-0.24034214, -0.57939047,  0.29671886],\n",
       "       [-0.69568628, -0.57939047, -0.39202732],\n",
       "       [-1.3893834 , -0.57939047, -1.44130237],\n",
       "       [-0.14927331, -0.57939047,  0.4344681 ],\n",
       "       [-0.54278059, -0.57939047, -0.16074465],\n",
       "       [-1.21848881, -0.57939047, -1.18280998],\n",
       "       [-0.62260636, -0.57939047, -0.28148781],\n",
       "       [-0.69568628, -0.57939047, -0.39202732],\n",
       "       [ 3.21127888,  3.60509626,  0.05636628],\n",
       "       [ 1.0593562 ,  0.46673121,  0.61700001],\n",
       "       [-0.42697702, -0.57939047,  0.01441796],\n",
       "       [-1.36015143, -0.57939047, -1.39708657],\n",
       "       [-0.72491825, -0.57939047, -0.43624313],\n",
       "       [-1.85934353, -1.62551215, -1.63006985],\n",
       "       [ 0.45785221, -0.57939047,  1.35279634],\n",
       "       [-0.73953423, -0.57939047, -0.45835103],\n",
       "       [ 0.12955471, -0.57939047,  0.85621885],\n",
       "       [ 1.00538948,  0.46673121,  0.56258056],\n",
       "       [-1.00711919, -0.57939047, -0.8630957 ],\n",
       "       [-1.04759422, -0.57939047, -0.92431758],\n",
       "       [-1.04197269,  0.46673121, -1.50195739],\n",
       "       [-0.29655747,  0.46673121, -0.75028871],\n",
       "       [-0.47082498, -0.57939047, -0.05190575],\n",
       "       [-0.75415022, -0.57939047, -0.48045893],\n",
       "       [ 2.06898345,  1.51285289,  0.55776217],\n",
       "       [-0.20211572,  1.51285289, -1.15985177],\n",
       "       [-0.4753222 , -0.57939047, -0.05870818],\n",
       "       [-1.11617692, -0.57939047, -1.02805466],\n",
       "       [ 0.36116185,  0.46673121, -0.08705165],\n",
       "       [ 0.31618959, -0.57939047,  1.13851975],\n",
       "       [-0.53715906, -0.57939047, -0.15224161],\n",
       "       [-0.15152192, -0.57939047,  0.43106688],\n",
       "       [ 0.01824836,  1.51285289, -0.9931922 ],\n",
       "       [-0.25833104, -0.57939047,  0.26950914],\n",
       "       [-0.09305799, -0.57939047,  0.51949849],\n",
       "       [-0.85308919, -0.57939047, -0.63011242],\n",
       "       [-0.6990592 , -0.57939047, -0.39712915],\n",
       "       [-0.34040542, -0.57939047,  0.14536476],\n",
       "       [ 0.22174784, -0.57939047,  0.99566869],\n",
       "       [-0.10879828,  0.46673121, -0.56095437],\n",
       "       [-0.43147425, -0.57939047,  0.00761553],\n",
       "       [-0.4056152 , -0.57939047,  0.04672951],\n",
       "       [-0.9407851 , -0.57939047, -0.76275984],\n",
       "       [-0.38200476,  0.46673121, -0.83645284],\n",
       "       [-1.02285948, -0.57939047, -0.88690421],\n",
       "       [-0.22685046,  0.46673121, -0.67999692],\n",
       "       [-0.51692154, -0.57939047, -0.12163067],\n",
       "       [-1.07232896, -0.57939047, -0.96173096],\n",
       "       [ 0.07446369, -0.57939047,  0.77288906],\n",
       "       [-1.01386503, -0.57939047, -0.87329935],\n",
       "       [-0.18974835, -0.57939047,  0.37324622],\n",
       "       [-0.20548864, -0.57939047,  0.34943771],\n",
       "       [ 1.15154933,  2.55897458, -0.64371729],\n",
       "       [ 0.3532917 , -0.57939047,  1.19463981],\n",
       "       [-0.80699263, -0.57939047, -0.5603875 ],\n",
       "       [-0.85196489, -0.57939047, -0.62841182],\n",
       "       [ 2.77617225,  0.46673121,  2.34821881],\n",
       "       [ 1.69121646,  1.51285289,  0.27206005],\n",
       "       [-1.55802938, -0.57939047, -1.69639355],\n",
       "       [-0.80137109, -0.57939047, -0.55188446],\n",
       "       [-0.80361971, -0.57939047, -0.55528568],\n",
       "       [-0.47757082, -0.57939047, -0.0621094 ],\n",
       "       [-1.24772078, -0.57939047, -1.22702578],\n",
       "       [-0.19312127, -0.57939047,  0.36814439],\n",
       "       [ 0.39264243,  0.46673121, -0.05530697],\n",
       "       [ 0.0947012 ,  1.51285289, -0.93537153],\n",
       "       [ 0.70632395,  1.51285289, -0.4728062 ],\n",
       "       [ 0.34429725, -0.57939047,  1.18103495],\n",
       "       [ 1.31120086,  0.46673121,  0.87095745],\n",
       "       [-0.40786381, -0.57939047,  0.04332829],\n",
       "       [ 0.15766237,  0.46673121, -0.29225833],\n",
       "       [-1.3545299 , -0.57939047, -1.38858353],\n",
       "       [-0.01323222, -0.57939047,  0.64024165],\n",
       "       [-0.17625667, -0.57939047,  0.39365351],\n",
       "       [ 0.06996646, -0.57939047,  0.76608663],\n",
       "       [ 0.52418629, -0.57939047,  1.45313221],\n",
       "       [ 1.82388463,  0.46673121,  1.38794224],\n",
       "       [-0.23584491, -0.57939047,  0.30352129],\n",
       "       [ 0.35441601, -0.57939047,  1.19634042],\n",
       "       [-0.78787942, -0.57939047, -0.53147717],\n",
       "       [ 0.55566688,  1.51285289, -0.58674692],\n",
       "       [-1.3893834 , -1.62551215, -0.20836167],\n",
       "       [-0.31342206, -0.57939047,  0.18617935],\n",
       "       [-0.51130001, -0.57939047, -0.11312763],\n",
       "       [ 0.63774125, -0.57939047,  1.6248936 ],\n",
       "       [ 1.43824749,  1.51285289,  0.08074166],\n",
       "       [-0.20099141, -0.57939047,  0.35624014],\n",
       "       [ 0.48820848, -0.57939047,  1.39871276],\n",
       "       [ 0.86260256, -0.57939047,  1.96501518],\n",
       "       [-0.37525892, -0.57939047,  0.09264592],\n",
       "       [ 0.96266584,  0.46673121,  0.51949849],\n",
       "       [ 0.76478789, -0.57939047,  1.81706229],\n",
       "       [-0.41123673, -0.57939047,  0.03822647],\n",
       "       [ 0.09919843, -0.57939047,  0.81030244],\n",
       "       [ 1.46972808, -0.57939047,  2.88334342],\n",
       "       [-0.37301031,  0.46673121, -0.82738293],\n",
       "       [ 0.49495432,  1.51285289, -0.63266333],\n",
       "       [ 0.15766237, -0.57939047,  0.89873405],\n",
       "       [-0.8373489 , -0.57939047, -0.60630391],\n",
       "       [-0.3550214 , -0.57939047,  0.12325686],\n",
       "       [-1.24659648, -0.57939047, -1.22532517],\n",
       "       [-0.595623  , -0.57939047, -0.24067322]])"
      ]
     },
     "execution_count": 40,
     "metadata": {},
     "output_type": "execute_result"
    }
   ],
   "source": [
    "X_train_scaled"
   ]
  },
  {
   "cell_type": "code",
   "execution_count": 43,
   "id": "fc3c59c0",
   "metadata": {},
   "outputs": [
    {
     "data": {
      "text/html": [
       "<div>\n",
       "<style scoped>\n",
       "    .dataframe tbody tr th:only-of-type {\n",
       "        vertical-align: middle;\n",
       "    }\n",
       "\n",
       "    .dataframe tbody tr th {\n",
       "        vertical-align: top;\n",
       "    }\n",
       "\n",
       "    .dataframe thead th {\n",
       "        text-align: right;\n",
       "    }\n",
       "</style>\n",
       "<table border=\"1\" class=\"dataframe\">\n",
       "  <thead>\n",
       "    <tr style=\"text-align: right;\">\n",
       "      <th></th>\n",
       "      <th>total_bill</th>\n",
       "      <th>party_size</th>\n",
       "      <th>price_per_person</th>\n",
       "    </tr>\n",
       "  </thead>\n",
       "  <tbody>\n",
       "    <tr>\n",
       "      <th>24</th>\n",
       "      <td>39.42</td>\n",
       "      <td>4</td>\n",
       "      <td>9.855</td>\n",
       "    </tr>\n",
       "    <tr>\n",
       "      <th>191</th>\n",
       "      <td>15.69</td>\n",
       "      <td>2</td>\n",
       "      <td>7.845</td>\n",
       "    </tr>\n",
       "    <tr>\n",
       "      <th>210</th>\n",
       "      <td>12.76</td>\n",
       "      <td>2</td>\n",
       "      <td>6.380</td>\n",
       "    </tr>\n",
       "    <tr>\n",
       "      <th>11</th>\n",
       "      <td>10.27</td>\n",
       "      <td>2</td>\n",
       "      <td>5.135</td>\n",
       "    </tr>\n",
       "    <tr>\n",
       "      <th>197</th>\n",
       "      <td>10.34</td>\n",
       "      <td>2</td>\n",
       "      <td>5.170</td>\n",
       "    </tr>\n",
       "  </tbody>\n",
       "</table>\n",
       "</div>"
      ],
      "text/plain": [
       "     total_bill  party_size  price_per_person\n",
       "24        39.42           4             9.855\n",
       "191       15.69           2             7.845\n",
       "210       12.76           2             6.380\n",
       "11        10.27           2             5.135\n",
       "197       10.34           2             5.170"
      ]
     },
     "execution_count": 43,
     "metadata": {},
     "output_type": "execute_result"
    }
   ],
   "source": [
    "X_train.head()"
   ]
  },
  {
   "cell_type": "code",
   "execution_count": 42,
   "id": "96305168",
   "metadata": {},
   "outputs": [
    {
     "name": "stderr",
     "output_type": "stream",
     "text": [
      "/usr/local/anaconda3/lib/python3.8/site-packages/sklearn/utils/validation.py:70: FutureWarning: Pass n_features_to_select=2 as keyword args. From version 1.0 (renaming of 0.25) passing these as positional arguments will result in an error\n",
      "  warnings.warn(f\"Pass {args_msg} as keyword args. From version \"\n"
     ]
    },
    {
     "ename": "AttributeError",
     "evalue": "'numpy.ndarray' object has no attribute 'iloc'",
     "output_type": "error",
     "traceback": [
      "\u001b[0;31m---------------------------------------------------------------------------\u001b[0m",
      "\u001b[0;31mAttributeError\u001b[0m                            Traceback (most recent call last)",
      "\u001b[0;32m<ipython-input-42-3b0143f12150>\u001b[0m in \u001b[0;36m<module>\u001b[0;34m\u001b[0m\n\u001b[1;32m     12\u001b[0m \u001b[0;34m\u001b[0m\u001b[0m\n\u001b[1;32m     13\u001b[0m \u001b[0;31m# get list of the column names.\u001b[0m\u001b[0;34m\u001b[0m\u001b[0;34m\u001b[0m\u001b[0;34m\u001b[0m\u001b[0m\n\u001b[0;32m---> 14\u001b[0;31m \u001b[0mrfe_feature\u001b[0m \u001b[0;34m=\u001b[0m \u001b[0mX_train_scaled\u001b[0m\u001b[0;34m.\u001b[0m\u001b[0miloc\u001b[0m\u001b[0;34m[\u001b[0m\u001b[0;34m:\u001b[0m\u001b[0;34m,\u001b[0m\u001b[0mfeature_mask\u001b[0m\u001b[0;34m]\u001b[0m\u001b[0;34m.\u001b[0m\u001b[0mcolumns\u001b[0m\u001b[0;34m.\u001b[0m\u001b[0mtolist\u001b[0m\u001b[0;34m(\u001b[0m\u001b[0;34m)\u001b[0m\u001b[0;34m\u001b[0m\u001b[0;34m\u001b[0m\u001b[0m\n\u001b[0m",
      "\u001b[0;31mAttributeError\u001b[0m: 'numpy.ndarray' object has no attribute 'iloc'"
     ]
    }
   ],
   "source": [
    "# initialize the ML algorithm\n",
    "lm = LinearRegression()\n",
    "\n",
    "# create the rfe object, indicating the ML object (lm) and the number of features I want to end up with. \n",
    "rfe = RFE(lm, 2)\n",
    "\n",
    "# fit the data using RFE\n",
    "rfe.fit(X_train_scaled,y_train)  \n",
    "\n",
    "# get the mask of the columns selected\n",
    "feature_mask = rfe.support_\n",
    "\n",
    "# get list of the column names. \n",
    "rfe_feature = X_train_scaled.iloc[:,feature_mask].columns.tolist()"
   ]
  },
  {
   "cell_type": "markdown",
   "id": "0ca0f539",
   "metadata": {},
   "source": [
    "#### f. Why do you think select k best and recursive feature elimination might give different answers for the top features? Does this change as you change the number of features your are selecting?"
   ]
  },
  {
   "cell_type": "code",
   "execution_count": null,
   "id": "e69d1139",
   "metadata": {},
   "outputs": [],
   "source": []
  },
  {
   "cell_type": "markdown",
   "id": "1fe6a7b1",
   "metadata": {},
   "source": [
    "### 2. Write a function named select_kbest that takes in the predictors (X), the target (y), and the number of features to select (k) and returns the names of the top k selected features based on the SelectKBest class. Test your function with the tips dataset. You should see the same results as when you did the process manually.\n"
   ]
  },
  {
   "cell_type": "markdown",
   "id": "8a8f54e3",
   "metadata": {},
   "source": [
    "### 3. Write a function named rfe that takes in the predictors, the target, and the number of features to select. It should return the top k features based on the RFE class. Test your function with the tips dataset. You should see the same results as when you did the process manually.\n"
   ]
  },
  {
   "cell_type": "markdown",
   "id": "d9af4b6c",
   "metadata": {},
   "source": [
    "### 4. Load the swiss dataset and use all the other features to predict Fertility. Find the top 3 features using both select k best and recursive feature elimination (use the functions you just built to help you out)."
   ]
  },
  {
   "cell_type": "code",
   "execution_count": null,
   "id": "efc20d5f",
   "metadata": {},
   "outputs": [],
   "source": []
  }
 ],
 "metadata": {
  "kernelspec": {
   "display_name": "Python 3",
   "language": "python",
   "name": "python3"
  },
  "language_info": {
   "codemirror_mode": {
    "name": "ipython",
    "version": 3
   },
   "file_extension": ".py",
   "mimetype": "text/x-python",
   "name": "python",
   "nbconvert_exporter": "python",
   "pygments_lexer": "ipython3",
   "version": "3.8.8"
  }
 },
 "nbformat": 4,
 "nbformat_minor": 5
}
