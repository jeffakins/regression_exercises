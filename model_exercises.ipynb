{
 "cells": [
  {
   "cell_type": "markdown",
   "id": "8292805b",
   "metadata": {},
   "source": [
    "## 1. Select a dataset with a continuous target variable.\n",
    "\n"
   ]
  },
  {
   "cell_type": "code",
   "execution_count": 1,
   "id": "61bf0048",
   "metadata": {},
   "outputs": [],
   "source": [
    "import wrangle as wr\n",
    "\n",
    "import pandas as pd\n",
    "import numpy as np\n",
    "import wrangle\n",
    "import matplotlib.pyplot as plt\n",
    "\n",
    "# modeling methods\n",
    "from sklearn.metrics import mean_squared_error\n",
    "from sklearn.linear_model import LinearRegression, LassoLars, TweedieRegressor\n",
    "from sklearn.preprocessing import PolynomialFeatures\n",
    "\n",
    "import warnings\n",
    "warnings.filterwarnings(\"ignore\")"
   ]
  },
  {
   "cell_type": "code",
   "execution_count": 20,
   "id": "a1286429",
   "metadata": {},
   "outputs": [],
   "source": [
    "# Gathering the Zillow Data:\n",
    "train_scaled, validate_scaled, test_scaled = wr.wrangle_zillow()"
   ]
  },
  {
   "cell_type": "markdown",
   "id": "35e330b5",
   "metadata": {},
   "source": [
    "## 2. Be sure your data is prepared (no missing values, numeric datatypes) and split into samples.\n"
   ]
  },
  {
   "cell_type": "code",
   "execution_count": 3,
   "id": "640a41d7",
   "metadata": {},
   "outputs": [
    {
     "data": {
      "text/html": [
       "<div>\n",
       "<style scoped>\n",
       "    .dataframe tbody tr th:only-of-type {\n",
       "        vertical-align: middle;\n",
       "    }\n",
       "\n",
       "    .dataframe tbody tr th {\n",
       "        vertical-align: top;\n",
       "    }\n",
       "\n",
       "    .dataframe thead th {\n",
       "        text-align: right;\n",
       "    }\n",
       "</style>\n",
       "<table border=\"1\" class=\"dataframe\">\n",
       "  <thead>\n",
       "    <tr style=\"text-align: right;\">\n",
       "      <th></th>\n",
       "      <th>bedrooms</th>\n",
       "      <th>bathrooms</th>\n",
       "      <th>sqft</th>\n",
       "      <th>tax_value</th>\n",
       "      <th>year_built</th>\n",
       "      <th>tax_amount</th>\n",
       "      <th>bedrooms_scaled</th>\n",
       "      <th>bathrooms_scaled</th>\n",
       "      <th>sqft_scaled</th>\n",
       "      <th>tax_value_scaled</th>\n",
       "      <th>tax_amount_scaled</th>\n",
       "    </tr>\n",
       "  </thead>\n",
       "  <tbody>\n",
       "    <tr>\n",
       "      <th>304071</th>\n",
       "      <td>3</td>\n",
       "      <td>3.0</td>\n",
       "      <td>1520</td>\n",
       "      <td>359000.0</td>\n",
       "      <td>1989</td>\n",
       "      <td>4564.03</td>\n",
       "      <td>0.500000</td>\n",
       "      <td>0.545455</td>\n",
       "      <td>0.268992</td>\n",
       "      <td>0.189737</td>\n",
       "      <td>0.217666</td>\n",
       "    </tr>\n",
       "    <tr>\n",
       "      <th>79809</th>\n",
       "      <td>3</td>\n",
       "      <td>2.0</td>\n",
       "      <td>1720</td>\n",
       "      <td>730569.0</td>\n",
       "      <td>1930</td>\n",
       "      <td>8635.53</td>\n",
       "      <td>0.500000</td>\n",
       "      <td>0.363636</td>\n",
       "      <td>0.304409</td>\n",
       "      <td>0.386129</td>\n",
       "      <td>0.412412</td>\n",
       "    </tr>\n",
       "    <tr>\n",
       "      <th>676548</th>\n",
       "      <td>4</td>\n",
       "      <td>3.0</td>\n",
       "      <td>2728</td>\n",
       "      <td>371879.0</td>\n",
       "      <td>1983</td>\n",
       "      <td>4298.92</td>\n",
       "      <td>0.666667</td>\n",
       "      <td>0.545455</td>\n",
       "      <td>0.482911</td>\n",
       "      <td>0.196544</td>\n",
       "      <td>0.204985</td>\n",
       "    </tr>\n",
       "    <tr>\n",
       "      <th>1942009</th>\n",
       "      <td>2</td>\n",
       "      <td>1.0</td>\n",
       "      <td>1144</td>\n",
       "      <td>660000.0</td>\n",
       "      <td>1931</td>\n",
       "      <td>7707.11</td>\n",
       "      <td>0.333333</td>\n",
       "      <td>0.181818</td>\n",
       "      <td>0.202408</td>\n",
       "      <td>0.348830</td>\n",
       "      <td>0.368004</td>\n",
       "    </tr>\n",
       "    <tr>\n",
       "      <th>1416535</th>\n",
       "      <td>2</td>\n",
       "      <td>1.0</td>\n",
       "      <td>1148</td>\n",
       "      <td>313673.0</td>\n",
       "      <td>1930</td>\n",
       "      <td>3821.05</td>\n",
       "      <td>0.333333</td>\n",
       "      <td>0.181818</td>\n",
       "      <td>0.203117</td>\n",
       "      <td>0.165779</td>\n",
       "      <td>0.182128</td>\n",
       "    </tr>\n",
       "  </tbody>\n",
       "</table>\n",
       "</div>"
      ],
      "text/plain": [
       "         bedrooms  bathrooms  sqft  tax_value  year_built  tax_amount  \\\n",
       "304071          3        3.0  1520   359000.0        1989     4564.03   \n",
       "79809           3        2.0  1720   730569.0        1930     8635.53   \n",
       "676548          4        3.0  2728   371879.0        1983     4298.92   \n",
       "1942009         2        1.0  1144   660000.0        1931     7707.11   \n",
       "1416535         2        1.0  1148   313673.0        1930     3821.05   \n",
       "\n",
       "         bedrooms_scaled  bathrooms_scaled  sqft_scaled  tax_value_scaled  \\\n",
       "304071          0.500000          0.545455     0.268992          0.189737   \n",
       "79809           0.500000          0.363636     0.304409          0.386129   \n",
       "676548          0.666667          0.545455     0.482911          0.196544   \n",
       "1942009         0.333333          0.181818     0.202408          0.348830   \n",
       "1416535         0.333333          0.181818     0.203117          0.165779   \n",
       "\n",
       "         tax_amount_scaled  \n",
       "304071            0.217666  \n",
       "79809             0.412412  \n",
       "676548            0.204985  \n",
       "1942009           0.368004  \n",
       "1416535           0.182128  "
      ]
     },
     "execution_count": 3,
     "metadata": {},
     "output_type": "execute_result"
    }
   ],
   "source": [
    "train_scaled.head()"
   ]
  },
  {
   "cell_type": "code",
   "execution_count": 4,
   "id": "0addf55e",
   "metadata": {},
   "outputs": [
    {
     "name": "stdout",
     "output_type": "stream",
     "text": [
      "<class 'pandas.core.frame.DataFrame'>\n",
      "Int64Index: 1168448 entries, 304071 to 405728\n",
      "Data columns (total 11 columns):\n",
      " #   Column             Non-Null Count    Dtype  \n",
      "---  ------             --------------    -----  \n",
      " 0   bedrooms           1168448 non-null  int64  \n",
      " 1   bathrooms          1168448 non-null  float64\n",
      " 2   sqft               1168448 non-null  int64  \n",
      " 3   tax_value          1168448 non-null  float64\n",
      " 4   year_built         1168448 non-null  int64  \n",
      " 5   tax_amount         1168448 non-null  float64\n",
      " 6   bedrooms_scaled    1168448 non-null  float64\n",
      " 7   bathrooms_scaled   1168448 non-null  float64\n",
      " 8   sqft_scaled        1168448 non-null  float64\n",
      " 9   tax_value_scaled   1168448 non-null  float64\n",
      " 10  tax_amount_scaled  1168448 non-null  float64\n",
      "dtypes: float64(8), int64(3)\n",
      "memory usage: 107.0 MB\n"
     ]
    }
   ],
   "source": [
    "train_scaled.info()"
   ]
  },
  {
   "cell_type": "code",
   "execution_count": 5,
   "id": "a75c8aad",
   "metadata": {},
   "outputs": [
    {
     "data": {
      "text/plain": [
       "(1168448, 11)"
      ]
     },
     "execution_count": 5,
     "metadata": {},
     "output_type": "execute_result"
    }
   ],
   "source": [
    "train_scaled.shape"
   ]
  },
  {
   "cell_type": "code",
   "execution_count": null,
   "id": "0b340ac4",
   "metadata": {},
   "outputs": [],
   "source": []
  },
  {
   "cell_type": "markdown",
   "id": "996924b9",
   "metadata": {},
   "source": [
    "## 3. Work through all of the steps outlined in the lesson, from setting the baseline to selected a model and evaluating the final model on your test data."
   ]
  },
  {
   "cell_type": "code",
   "execution_count": 21,
   "id": "ac67ecfc",
   "metadata": {},
   "outputs": [],
   "source": [
    "columns_included = ['bedrooms_scaled', 'bathrooms_scaled', 'sqft_scaled']\n",
    "X_train = train_scaled[columns_included]\n",
    "y_train = pd.DataFrame(train_scaled.tax_value)\n",
    "\n",
    "X_validate = validate_scaled[columns_included]\n",
    "y_validate = pd.DataFrame(validate_scaled.tax_value)"
   ]
  },
  {
   "cell_type": "code",
   "execution_count": 26,
   "id": "e6194eea",
   "metadata": {},
   "outputs": [
    {
     "data": {
      "text/html": [
       "<div>\n",
       "<style scoped>\n",
       "    .dataframe tbody tr th:only-of-type {\n",
       "        vertical-align: middle;\n",
       "    }\n",
       "\n",
       "    .dataframe tbody tr th {\n",
       "        vertical-align: top;\n",
       "    }\n",
       "\n",
       "    .dataframe thead th {\n",
       "        text-align: right;\n",
       "    }\n",
       "</style>\n",
       "<table border=\"1\" class=\"dataframe\">\n",
       "  <thead>\n",
       "    <tr style=\"text-align: right;\">\n",
       "      <th></th>\n",
       "      <th>tax_value</th>\n",
       "      <th>value_predicted</th>\n",
       "    </tr>\n",
       "  </thead>\n",
       "  <tbody>\n",
       "    <tr>\n",
       "      <th>476631</th>\n",
       "      <td>748877.0</td>\n",
       "      <td>286835.512686</td>\n",
       "    </tr>\n",
       "    <tr>\n",
       "      <th>630001</th>\n",
       "      <td>230380.0</td>\n",
       "      <td>300262.328990</td>\n",
       "    </tr>\n",
       "    <tr>\n",
       "      <th>609977</th>\n",
       "      <td>120726.0</td>\n",
       "      <td>471280.656295</td>\n",
       "    </tr>\n",
       "    <tr>\n",
       "      <th>1379378</th>\n",
       "      <td>408496.0</td>\n",
       "      <td>204823.350600</td>\n",
       "    </tr>\n",
       "    <tr>\n",
       "      <th>811979</th>\n",
       "      <td>1591558.0</td>\n",
       "      <td>601822.505289</td>\n",
       "    </tr>\n",
       "  </tbody>\n",
       "</table>\n",
       "</div>"
      ],
      "text/plain": [
       "         tax_value  value_predicted\n",
       "476631    748877.0    286835.512686\n",
       "630001    230380.0    300262.328990\n",
       "609977    120726.0    471280.656295\n",
       "1379378   408496.0    204823.350600\n",
       "811979   1591558.0    601822.505289"
      ]
     },
     "execution_count": 26,
     "metadata": {},
     "output_type": "execute_result"
    }
   ],
   "source": [
    "# create the model object\n",
    "lm = LinearRegression(normalize=True)\n",
    "\n",
    "# fit the model to our training data. We must specify the column in y_train, \n",
    "# since we have converted it to a dataframe from a series! \n",
    "lm.fit(X_train, y_train)\n",
    "\n",
    "# predict train\n",
    "y_train['value_predicted'] = lm.predict(X_train)\n",
    "\n",
    "y_train.head()"
   ]
  },
  {
   "cell_type": "code",
   "execution_count": 27,
   "id": "b9fb2767",
   "metadata": {},
   "outputs": [
    {
     "name": "stdout",
     "output_type": "stream",
     "text": [
      "RMSE for OLS using LinearRegression\n",
      "Training/In-Sample:  239189.26209820254 \n",
      "Validation/Out-of-Sample:  238849.53147001198\n"
     ]
    }
   ],
   "source": [
    "# evaluate: rmse\n",
    "rmse_train = mean_squared_error(y_train.tax_value, y_train.value_predicted) ** (1/2)\n",
    "\n",
    "# predict validate\n",
    "y_validate['value_predicted'] = lm.predict(X_validate)\n",
    "\n",
    "# evaluate: rmse\n",
    "rmse_validate = mean_squared_error(y_validate.tax_value, y_validate.value_predicted) ** (1/2)\n",
    "\n",
    "print(\"RMSE for OLS using LinearRegression\\nTraining/In-Sample: \", rmse_train, \n",
    "      \"\\nValidation/Out-of-Sample: \", rmse_validate)"
   ]
  },
  {
   "cell_type": "code",
   "execution_count": null,
   "id": "f16a9b86",
   "metadata": {},
   "outputs": [],
   "source": []
  }
 ],
 "metadata": {
  "kernelspec": {
   "display_name": "Python 3",
   "language": "python",
   "name": "python3"
  },
  "language_info": {
   "codemirror_mode": {
    "name": "ipython",
    "version": 3
   },
   "file_extension": ".py",
   "mimetype": "text/x-python",
   "name": "python",
   "nbconvert_exporter": "python",
   "pygments_lexer": "ipython3",
   "version": "3.8.8"
  }
 },
 "nbformat": 4,
 "nbformat_minor": 5
}
