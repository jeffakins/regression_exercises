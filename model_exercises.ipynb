{
 "cells": [
  {
   "cell_type": "markdown",
   "id": "8292805b",
   "metadata": {},
   "source": [
    "## 1. Select a dataset with a continuous target variable.\n",
    "\n"
   ]
  },
  {
   "cell_type": "code",
   "execution_count": 2,
   "id": "61bf0048",
   "metadata": {},
   "outputs": [],
   "source": [
    "import wrangle as wr\n",
    "\n",
    "import pandas as pd\n",
    "import numpy as np\n",
    "import wrangle\n",
    "import matplotlib.pyplot as plt\n",
    "\n",
    "# modeling methods\n",
    "from sklearn.metrics import mean_squared_error\n",
    "from sklearn.linear_model import LinearRegression, LassoLars, TweedieRegressor\n",
    "from sklearn.preprocessing import PolynomialFeatures\n",
    "\n",
    "import warnings\n",
    "warnings.filterwarnings(\"ignore\")"
   ]
  },
  {
   "cell_type": "code",
   "execution_count": 5,
   "id": "a1286429",
   "metadata": {},
   "outputs": [],
   "source": [
    "# Gathering the Zillow Data:\n",
    "train_scaled, val_scaled, test_scaled = wr.wrangle_zillow()"
   ]
  },
  {
   "cell_type": "markdown",
   "id": "35e330b5",
   "metadata": {},
   "source": [
    "## 2. Be sure your data is prepared (no missing values, numeric datatypes) and split into samples.\n"
   ]
  },
  {
   "cell_type": "code",
   "execution_count": 6,
   "id": "640a41d7",
   "metadata": {},
   "outputs": [
    {
     "data": {
      "text/html": [
       "<div>\n",
       "<style scoped>\n",
       "    .dataframe tbody tr th:only-of-type {\n",
       "        vertical-align: middle;\n",
       "    }\n",
       "\n",
       "    .dataframe tbody tr th {\n",
       "        vertical-align: top;\n",
       "    }\n",
       "\n",
       "    .dataframe thead th {\n",
       "        text-align: right;\n",
       "    }\n",
       "</style>\n",
       "<table border=\"1\" class=\"dataframe\">\n",
       "  <thead>\n",
       "    <tr style=\"text-align: right;\">\n",
       "      <th></th>\n",
       "      <th>bedrooms</th>\n",
       "      <th>bathrooms</th>\n",
       "      <th>sqft</th>\n",
       "      <th>tax_value</th>\n",
       "      <th>year_built</th>\n",
       "      <th>tax_amount</th>\n",
       "      <th>bedrooms_scaled</th>\n",
       "      <th>bathrooms_scaled</th>\n",
       "      <th>sqft_scaled</th>\n",
       "      <th>tax_value_scaled</th>\n",
       "      <th>tax_amount_scaled</th>\n",
       "    </tr>\n",
       "  </thead>\n",
       "  <tbody>\n",
       "    <tr>\n",
       "      <th>1193044</th>\n",
       "      <td>4</td>\n",
       "      <td>3.0</td>\n",
       "      <td>2228</td>\n",
       "      <td>646400.0</td>\n",
       "      <td>1972</td>\n",
       "      <td>7641.12</td>\n",
       "      <td>0.666667</td>\n",
       "      <td>0.545455</td>\n",
       "      <td>0.394369</td>\n",
       "      <td>0.341675</td>\n",
       "      <td>0.364838</td>\n",
       "    </tr>\n",
       "    <tr>\n",
       "      <th>236723</th>\n",
       "      <td>6</td>\n",
       "      <td>3.0</td>\n",
       "      <td>3862</td>\n",
       "      <td>375000.0</td>\n",
       "      <td>2005</td>\n",
       "      <td>5459.08</td>\n",
       "      <td>1.000000</td>\n",
       "      <td>0.545455</td>\n",
       "      <td>0.683726</td>\n",
       "      <td>0.198213</td>\n",
       "      <td>0.260470</td>\n",
       "    </tr>\n",
       "    <tr>\n",
       "      <th>1749535</th>\n",
       "      <td>3</td>\n",
       "      <td>2.0</td>\n",
       "      <td>1710</td>\n",
       "      <td>296634.0</td>\n",
       "      <td>1969</td>\n",
       "      <td>3489.91</td>\n",
       "      <td>0.500000</td>\n",
       "      <td>0.363636</td>\n",
       "      <td>0.302639</td>\n",
       "      <td>0.156789</td>\n",
       "      <td>0.166284</td>\n",
       "    </tr>\n",
       "    <tr>\n",
       "      <th>1695860</th>\n",
       "      <td>3</td>\n",
       "      <td>1.0</td>\n",
       "      <td>1136</td>\n",
       "      <td>499311.0</td>\n",
       "      <td>1950</td>\n",
       "      <td>5955.52</td>\n",
       "      <td>0.500000</td>\n",
       "      <td>0.181818</td>\n",
       "      <td>0.200992</td>\n",
       "      <td>0.263924</td>\n",
       "      <td>0.284215</td>\n",
       "    </tr>\n",
       "    <tr>\n",
       "      <th>812768</th>\n",
       "      <td>3</td>\n",
       "      <td>2.0</td>\n",
       "      <td>1754</td>\n",
       "      <td>73880.0</td>\n",
       "      <td>1951</td>\n",
       "      <td>1108.15</td>\n",
       "      <td>0.500000</td>\n",
       "      <td>0.363636</td>\n",
       "      <td>0.310430</td>\n",
       "      <td>0.039041</td>\n",
       "      <td>0.052364</td>\n",
       "    </tr>\n",
       "  </tbody>\n",
       "</table>\n",
       "</div>"
      ],
      "text/plain": [
       "         bedrooms  bathrooms  sqft  tax_value  year_built  tax_amount  \\\n",
       "1193044         4        3.0  2228   646400.0        1972     7641.12   \n",
       "236723          6        3.0  3862   375000.0        2005     5459.08   \n",
       "1749535         3        2.0  1710   296634.0        1969     3489.91   \n",
       "1695860         3        1.0  1136   499311.0        1950     5955.52   \n",
       "812768          3        2.0  1754    73880.0        1951     1108.15   \n",
       "\n",
       "         bedrooms_scaled  bathrooms_scaled  sqft_scaled  tax_value_scaled  \\\n",
       "1193044         0.666667          0.545455     0.394369          0.341675   \n",
       "236723          1.000000          0.545455     0.683726          0.198213   \n",
       "1749535         0.500000          0.363636     0.302639          0.156789   \n",
       "1695860         0.500000          0.181818     0.200992          0.263924   \n",
       "812768          0.500000          0.363636     0.310430          0.039041   \n",
       "\n",
       "         tax_amount_scaled  \n",
       "1193044           0.364838  \n",
       "236723            0.260470  \n",
       "1749535           0.166284  \n",
       "1695860           0.284215  \n",
       "812768            0.052364  "
      ]
     },
     "execution_count": 6,
     "metadata": {},
     "output_type": "execute_result"
    }
   ],
   "source": [
    "train_scaled.head()"
   ]
  },
  {
   "cell_type": "code",
   "execution_count": 7,
   "id": "0addf55e",
   "metadata": {},
   "outputs": [
    {
     "name": "stdout",
     "output_type": "stream",
     "text": [
      "<class 'pandas.core.frame.DataFrame'>\n",
      "Int64Index: 1168448 entries, 1193044 to 347560\n",
      "Data columns (total 11 columns):\n",
      " #   Column             Non-Null Count    Dtype  \n",
      "---  ------             --------------    -----  \n",
      " 0   bedrooms           1168448 non-null  int64  \n",
      " 1   bathrooms          1168448 non-null  float64\n",
      " 2   sqft               1168448 non-null  int64  \n",
      " 3   tax_value          1168448 non-null  float64\n",
      " 4   year_built         1168448 non-null  int64  \n",
      " 5   tax_amount         1168448 non-null  float64\n",
      " 6   bedrooms_scaled    1168448 non-null  float64\n",
      " 7   bathrooms_scaled   1168448 non-null  float64\n",
      " 8   sqft_scaled        1168448 non-null  float64\n",
      " 9   tax_value_scaled   1168448 non-null  float64\n",
      " 10  tax_amount_scaled  1168448 non-null  float64\n",
      "dtypes: float64(8), int64(3)\n",
      "memory usage: 107.0 MB\n"
     ]
    }
   ],
   "source": [
    "train_scaled.info()"
   ]
  },
  {
   "cell_type": "code",
   "execution_count": 8,
   "id": "a75c8aad",
   "metadata": {},
   "outputs": [
    {
     "data": {
      "text/plain": [
       "(1168448, 11)"
      ]
     },
     "execution_count": 8,
     "metadata": {},
     "output_type": "execute_result"
    }
   ],
   "source": [
    "train_scaled.shape"
   ]
  },
  {
   "cell_type": "markdown",
   "id": "996924b9",
   "metadata": {},
   "source": [
    "## 3. Work through all of the steps outlined in the lesson, from setting the baseline to selected a model and evaluating the final model on your test data."
   ]
  },
  {
   "cell_type": "code",
   "execution_count": null,
   "id": "e6194eea",
   "metadata": {},
   "outputs": [],
   "source": [
    "# create the model object\n",
    "lm = LinearRegression(normalize=True)\n",
    "\n",
    "# fit the model to our training data. We must specify the column in y_train, \n",
    "# since we have converted it to a dataframe from a series! \n",
    "lm.fit(X_train, y_train.tax_value)\n",
    "\n",
    "# predict train\n",
    "y_train['value_predicted'] = lm.predict(X_train)\n",
    "\n",
    "# evaluate: rmse\n",
    "rmse_train = mean_squared_error(y_train.G3, y_train.G3_pred_lm)**(1/2)\n",
    "\n",
    "# predict validate\n",
    "y_validate['G3_pred_lm'] = lm.predict(X_validate)\n",
    "\n",
    "# evaluate: rmse\n",
    "rmse_validate = mean_squared_error(y_validate.G3, y_validate.G3_pred_lm)**(1/2)\n",
    "\n",
    "print(\"RMSE for OLS using LinearRegression\\nTraining/In-Sample: \", rmse_train, \n",
    "      \"\\nValidation/Out-of-Sample: \", rmse_validate)"
   ]
  }
 ],
 "metadata": {
  "kernelspec": {
   "display_name": "Python 3",
   "language": "python",
   "name": "python3"
  },
  "language_info": {
   "codemirror_mode": {
    "name": "ipython",
    "version": 3
   },
   "file_extension": ".py",
   "mimetype": "text/x-python",
   "name": "python",
   "nbconvert_exporter": "python",
   "pygments_lexer": "ipython3",
   "version": "3.8.8"
  }
 },
 "nbformat": 4,
 "nbformat_minor": 5
}
